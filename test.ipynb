{
 "cells": [
  {
   "cell_type": "code",
   "execution_count": 1,
   "metadata": {},
   "outputs": [],
   "source": [
    "import csv\n",
    "import math\n",
    "import string\n",
    "import itertools\n",
    "from io import open\n",
    "from conllu import parse_incr\n",
    "import torch\n",
    "import torch.nn as nn\n",
    "import torch.nn.functional as F\n",
    "from nltk.corpus import wordnet as wn"
   ]
  },
  {
   "cell_type": "code",
   "execution_count": 2,
   "metadata": {},
   "outputs": [
    {
     "name": "stdout",
     "output_type": "stream",
     "text": [
      "<ViewBackward object at 0x120fea0b8>\n",
      "True\n",
      "tensor([[0.0000e+00, 0.0000e+00, 0.0000e+00],\n",
      "        [0.0000e+00, 0.0000e+00, 0.0000e+00],\n",
      "        [0.0000e+00, 2.9802e-08, 0.0000e+00]])\n",
      "tensor([[1.0000, 1.0000, 1.0000],\n",
      "        [1.0000, 1.0000, 1.0000],\n",
      "        [1.0000, 0.9999, 1.0000]], requires_grad=True)\n"
     ]
    }
   ],
   "source": [
    "# tests for pytorch computation graph\n",
    "from torch.nn import CosineEmbeddingLoss\n",
    "l = CosineEmbeddingLoss()\n",
    "import torch.optim as optim\n",
    "\n",
    "sense_vec = torch.ones(3, 1)\n",
    "sense_vec.requires_grad = True\n",
    "def_vec = torch.randn(3, 1)\n",
    "def_vec.requires_grad = True\n",
    "\n",
    "matrix = torch.ones(3, 3)\n",
    "matrix.requires_grad = True\n",
    "vec = matrix[2, :].view(3, 1)\n",
    "print(vec.grad_fn)\n",
    "print(vec.requires_grad)\n",
    "label = torch.randn(3, 1)\n",
    "\n",
    "opt = optim.Adam([matrix])\n",
    "test_vec = torch.ones(def_vec.size())\n",
    "\n",
    "for i in range(1):\n",
    "    \n",
    "    opt.zero_grad()\n",
    "    loss = l(vec, label, test_vec)\n",
    "    # print(loss)\n",
    "    loss.backward()\n",
    "    print(matrix.grad)\n",
    "    # print(def_vec.grad)\n",
    "    \n",
    "    opt.step()\n",
    "\n",
    "print(matrix)"
   ]
  },
  {
   "cell_type": "code",
   "execution_count": 3,
   "metadata": {},
   "outputs": [],
   "source": [
    "# parse the WSD dataset first\n",
    "\n",
    "'''\n",
    "Copyright@\n",
    "White, A. S., D. Reisinger, K. Sakaguchi, T. Vieira, S. Zhang, R. Rudinger, K. Rawlins, & B. Van Durme. 2016. \n",
    "[Universal decompositional semantics on universal dependencies]\n",
    "(http://aswhite.net/media/papers/white_universal_2016.pdf). \n",
    "To appear in *Proceedings of the Conference on Empirical Methods in Natural Language Processing 2016*.\n",
    "'''\n",
    "\n",
    "def parse_wsd_data():\n",
    "\n",
    "    # parse the WSD dataset\n",
    "    wsd_data = []\n",
    "\n",
    "    # read in tsv by White et. al., 2016\n",
    "    with open('data/wsd/wsd_eng_ud1.2_10262016.tsv', mode = 'r') as wsd_file:\n",
    "\n",
    "        tsv_reader = csv.DictReader(wsd_file, delimiter = '\\t')      \n",
    "\n",
    "        # store the data: ordered dict row\n",
    "        for row in tsv_reader:                                \n",
    "\n",
    "            # each data vector\n",
    "            wsd_data.append(row)\n",
    "\n",
    "        # make sure all data are parsed\n",
    "        print('Parsed {} word sense data from White et. al., 2016.'.format(len(wsd_data)))\n",
    "\n",
    "    return wsd_data"
   ]
  },
  {
   "cell_type": "code",
   "execution_count": 4,
   "metadata": {},
   "outputs": [
    {
     "name": "stdout",
     "output_type": "stream",
     "text": [
      "Parsed 439312 word sense data from White et. al., 2016.\n"
     ]
    }
   ],
   "source": [
    "# get the raw wsd data\n",
    "wsd_data = parse_wsd_data()"
   ]
  },
  {
   "cell_type": "code",
   "execution_count": 5,
   "metadata": {},
   "outputs": [],
   "source": [
    "'''\n",
    "return: \n",
    "all senses for each word \n",
    "all definitions for each word\n",
    "all supersenses\n",
    "from the EUD for train, test, and dev dataset\n",
    "index provided by WSD dataset by White et. al.\n",
    "'''\n",
    "# get all the senses and definitions for each word from WSD dataset\n",
    "# order of senses and definitions are in order\n",
    "def get_all_senses_and_definitions(wsd_data):\n",
    "\n",
    "    # all senses for each \n",
    "    all_senses = {}\n",
    "    all_definitions = {}\n",
    "    all_supersenses = {}\n",
    "    \n",
    "    # for test purpose: only load specific amount of data\n",
    "    for i in range(100):\n",
    "\n",
    "        # get the original sentence from EUD\n",
    "        sentence_id = wsd_data[i].get('Sentence.ID')\n",
    "        \n",
    "        # get the definitions for the target word from EUD\n",
    "        definition = wsd_data[i].get('Sense.Definition').split(' ')\n",
    "        \n",
    "        # the index in EUD is 1-based!!!\n",
    "        sentence_number = int(sentence_id.split(' ')[-1]) - 1\n",
    "        word_index = int(wsd_data[i].get('Arg.Token')) - 1\n",
    "        word_lemma = wsd_data[i].get('Arg.Lemma')\n",
    "        word_sense = wsd_data[i].get('Synset')\n",
    "        response = wsd_data[i].get('Sense.Response')\n",
    "        \n",
    "        # supersense-> (word_lemma, word_sense) dictionary\n",
    "        super_s = wn.synset(word_sense).lexname().replace('.', '_')\n",
    "        if all_supersenses.get(super_s, 'not_exist') != 'not_exist':\n",
    "            all_supersenses[super_s].add((word_lemma, word_sense))\n",
    "        else:\n",
    "            all_supersenses[super_s] = {(word_lemma, word_sense)}\n",
    "\n",
    "        # if the word already exits: add the new sense to the list\n",
    "        # else: creata a new list for the word\n",
    "        if all_senses.get(word_lemma, 'not_exist') != 'not_exist':\n",
    "            if word_sense not in all_senses[word_lemma]:\n",
    "                all_senses[word_lemma].append(word_sense)\n",
    "        else:\n",
    "            all_senses[word_lemma] = []\n",
    "            all_senses[word_lemma].append(word_sense)            \n",
    "            \n",
    "        if all_definitions.get(word_lemma,'not_exist') != 'not_exist':\n",
    "            if definition not in all_definitions[word_lemma]: \n",
    "                all_definitions[word_lemma].append(definition)\n",
    "        else:\n",
    "            all_definitions[word_lemma] = []\n",
    "            all_definitions[word_lemma].append(definition)\n",
    "        \n",
    "    return all_senses, all_definitions, all_supersenses"
   ]
  },
  {
   "cell_type": "code",
   "execution_count": 6,
   "metadata": {},
   "outputs": [
    {
     "name": "stdout",
     "output_type": "stream",
     "text": [
      "noun_time : {('rate', 'rate.n.01'), ('spring', 'spring.n.01')}\n",
      "noun_artifact : {('house', 'house.n.12'), ('level', 'level.n.05'), ('level', 'floor.n.02'), ('puppet', 'puppet.n.01'), ('house', 'house.n.01'), ('house', 'theater.n.01'), ('spring', 'spring.n.02'), ('level', 'horizontal_surface.n.01'), ('puppet', 'puppet.n.03')}\n",
      "noun_object : {('spring', 'spring.n.03')}\n",
      "noun_location : {('place', 'place.n.04'), ('place', 'place.n.02'), ('place', 'position.n.01'), ('place', 'seat.n.01'), ('place', 'plaza.n.01'), ('spring', 'spring.n.04'), ('house', 'sign_of_the_zodiac.n.01'), ('place', 'topographic_point.n.01'), ('place', 'home.n.01')}\n",
      "noun_attribute : {('advantage', 'advantage.n.01'), ('rate', 'pace.n.03'), ('advantage', 'advantage.n.03'), ('spring', 'give.n.01'), ('level', 'degree.n.01'), ('ambition', 'ambition.n.02'), ('level', 'level.n.04')}\n",
      "noun_act : {('overthrow', 'overthrow.n.01'), ('spring', 'leap.n.01'), ('place', 'stead.n.01'), ('overthrow', 'upset.n.02'), ('place', 'position.n.06'), ('campaigning', 'campaigning.n.01'), ('management', 'management.n.01'), ('house', 'house.n.07')}\n",
      "noun_feeling : {('ambition', 'ambition.n.01')}\n",
      "noun_group : {('house', 'firm.n.01'), ('house', 'house.n.04'), ('house', 'house.n.09'), ('management', 'management.n.02'), ('house', 'house.n.05'), ('house', 'house.n.06'), ('house', 'family.n.01'), ('house', 'house.n.03')}\n",
      "noun_quantity : {('advantage', 'advantage.n.02')}\n",
      "noun_possession : {('rate', 'rate.n.02')}\n",
      "noun_relation : {('rate', 'rate.n.04')}\n",
      "noun_state : {('level', 'grade.n.02'), ('place', 'place.n.13'), ('place', 'place.n.10'), ('place', 'place.n.06'), ('level', 'degree.n.02')}\n",
      "noun_cognition : {('place', 'place.n.03'), ('level', 'level.n.07')}\n",
      "noun_person : {('puppet', 'creature.n.03')}\n",
      "noun_communication : {('place', 'space.n.07'), ('place', 'place.n.12'), ('place', 'place.n.15')}\n"
     ]
    }
   ],
   "source": [
    "# get all the senses and definitions\n",
    "all_senses, all_definitions, all_supersenses = get_all_senses_and_definitions(wsd_data)\n",
    "\n",
    "for key in all_supersenses.keys():\n",
    "    print('{} : {}'.format(key, all_supersenses[key]))"
   ]
  },
  {
   "cell_type": "code",
   "execution_count": 7,
   "metadata": {},
   "outputs": [
    {
     "data": {
      "text/plain": [
       "\"\\nThe specific Synset method is lexname, e.g. wn.synsets('spring')[0].lexname(). \\nThat should make it really easy to get the suspersenses.\\nAnd if you have the synset name–e.g. 'spring.n.01'\\nyou can access the supersense directly: wn.synset('spring.n.01').lexname().\\nWhich returns 'noun.time'.\\nAnd wn.synset('spring.n.02').lexname() returns 'noun.artifact'\\n\\nfor idx, d in enumerate(all_definitions['spring']):\\n    print(d)\\n    print(wn.synset(all_senses['spring'][idx]).lexname())\\n\\nfor _ in wn.synsets('spring'):\\n    print(_.lexname())\\n\""
      ]
     },
     "execution_count": 7,
     "metadata": {},
     "output_type": "execute_result"
    }
   ],
   "source": [
    "# test for the WordNet NLTK API\n",
    "'''\n",
    "The specific Synset method is lexname, e.g. wn.synsets('spring')[0].lexname(). \n",
    "That should make it really easy to get the suspersenses.\n",
    "And if you have the synset name–e.g. 'spring.n.01'\n",
    "you can access the supersense directly: wn.synset('spring.n.01').lexname().\n",
    "Which returns 'noun.time'.\n",
    "And wn.synset('spring.n.02').lexname() returns 'noun.artifact'\n",
    "\n",
    "for idx, d in enumerate(all_definitions['spring']):\n",
    "    print(d)\n",
    "    print(wn.synset(all_senses['spring'][idx]).lexname())\n",
    "\n",
    "for _ in wn.synsets('spring'):\n",
    "    print(_.lexname())\n",
    "'''"
   ]
  },
  {
   "cell_type": "code",
   "execution_count": 8,
   "metadata": {},
   "outputs": [],
   "source": [
    "# read the train, dev, test datasets from processed files\n",
    "# check the 'data_loader.ipynb' for details\n",
    "def read_file():\n",
    "    \n",
    "    train_X = []\n",
    "    train_X_num = 0\n",
    "    train_Y = []\n",
    "    train_Y_num = 0\n",
    "    test_X = []\n",
    "    test_X_num = 0\n",
    "    test_Y = []\n",
    "    test_Y_num = 0\n",
    "    dev_X = []\n",
    "    dev_X_num = 0\n",
    "    dev_Y = []\n",
    "    dev_Y_num = 0\n",
    "    \n",
    "    train_word_idx = []\n",
    "    test_word_idx = []\n",
    "    dev_word_idx = []\n",
    "    \n",
    "    # read in csv\n",
    "    with open('data/train_X.tsv', mode = 'r') as data_file:\n",
    "        \n",
    "        csv_reader = csv.reader(data_file, delimiter = '\\t')\n",
    "\n",
    "        # store the data\n",
    "        for row in csv_reader:\n",
    "\n",
    "            train_X.append(row)\n",
    "            train_X_num += 1\n",
    "\n",
    "        # make sure all data are parsed\n",
    "        print(f'Parsed {train_X_num} data points for train_X.')\n",
    "\n",
    "    with open('data/train_Y.tsv', mode = 'r') as data_file:\n",
    "        \n",
    "        csv_reader = csv.reader(data_file)\n",
    "\n",
    "        # store the data\n",
    "        for row in csv_reader:\n",
    "\n",
    "            row = list(map(int, row))\n",
    "            train_Y.append(row)\n",
    "            train_Y_num += 1\n",
    "\n",
    "        # make sure all data are parsed\n",
    "        print(f'Parsed {train_Y_num} data points for train_Y.')\n",
    "        \n",
    "    with open('data/train_word_idx.tsv', mode = 'r') as data_file:\n",
    "        \n",
    "        csv_reader = csv.reader(data_file)\n",
    "\n",
    "        # store the data\n",
    "        for row in csv_reader:\n",
    "\n",
    "            row = list(map(int, row))\n",
    "            train_word_idx = (row)\n",
    "\n",
    "        # make sure all data are parsed\n",
    "        print(f'Parsed {len(train_word_idx)} data points for train_word_idx.')\n",
    "\n",
    "    with open('data/dev_X.tsv', mode = 'r') as data_file:\n",
    "        \n",
    "        csv_reader = csv.reader(data_file, delimiter = '\\t')\n",
    "\n",
    "        # store the data\n",
    "        for row in csv_reader:\n",
    "\n",
    "            dev_X.append(row)\n",
    "            dev_X_num += 1\n",
    "\n",
    "        # make sure all data are parsed\n",
    "        print(f'Parsed {dev_X_num} data points for dev_X.')\n",
    "\n",
    "    with open('data/dev_Y.tsv', mode = 'r') as data_file:\n",
    "        \n",
    "        csv_reader = csv.reader(data_file)\n",
    "\n",
    "        # store the data\n",
    "        for row in csv_reader:\n",
    "\n",
    "            row = list(map(int, row))\n",
    "            dev_Y.append(row)\n",
    "            dev_Y_num += 1\n",
    "\n",
    "        # make sure all data are parsed\n",
    "        print(f'Parsed {dev_Y_num} data points for dev_Y.')\n",
    "        \n",
    "    with open('data/dev_word_idx.tsv', mode = 'r') as data_file:\n",
    "        \n",
    "        csv_reader = csv.reader(data_file)\n",
    "\n",
    "        # store the data\n",
    "        for row in csv_reader:\n",
    "\n",
    "            row = list(map(int, row))\n",
    "            dev_word_idx = (row)\n",
    "\n",
    "        # make sure all data are parsed\n",
    "        print(f'Parsed {len(dev_word_idx)} data points for dev_word_idx.')\n",
    "        \n",
    "    with open('data/test_X.tsv', mode = 'r') as data_file:\n",
    "        \n",
    "        csv_reader = csv.reader(data_file, delimiter = '\\t')\n",
    "\n",
    "        # store the data\n",
    "        for row in csv_reader:\n",
    "\n",
    "            test_X.append(row)\n",
    "            test_X_num += 1\n",
    "\n",
    "        # make sure all data are parsed\n",
    "        print(f'Parsed {test_X_num} data points for test_X.')\n",
    "\n",
    "    with open('data/test_Y.tsv', mode = 'r') as data_file:\n",
    "        \n",
    "        csv_reader = csv.reader(data_file)\n",
    "\n",
    "        # store the data\n",
    "        for row in csv_reader:\n",
    "\n",
    "            row = list(map(int, row))\n",
    "            test_Y.append(row)\n",
    "            test_Y_num += 1\n",
    "\n",
    "        # make sure all data are parsed\n",
    "        print(f'Parsed {test_Y_num} data points for test_Y.')\n",
    "        \n",
    "    with open('data/test_word_idx.tsv', mode = 'r') as data_file:\n",
    "        \n",
    "        csv_reader = csv.reader(data_file)\n",
    "\n",
    "        # store the data\n",
    "        for row in csv_reader:\n",
    "\n",
    "            row = list(map(int, row))\n",
    "            test_word_idx = (row)\n",
    "\n",
    "        # make sure all data are parsed\n",
    "        print(f'Parsed {len(test_word_idx)} data points for test_word_idx.')    \n",
    "        \n",
    "    return train_X, train_Y, test_X, test_Y, dev_X, dev_Y, train_word_idx, test_word_idx, dev_word_idx"
   ]
  },
  {
   "cell_type": "code",
   "execution_count": 9,
   "metadata": {},
   "outputs": [
    {
     "name": "stdout",
     "output_type": "stream",
     "text": [
      "Parsed 67398 data points for train_X.\n",
      "Parsed 67398 data points for train_Y.\n",
      "Parsed 67398 data points for train_word_idx.\n",
      "Parsed 7333 data points for dev_X.\n",
      "Parsed 7333 data points for dev_Y.\n",
      "Parsed 7333 data points for dev_word_idx.\n",
      "Parsed 7123 data points for test_X.\n",
      "Parsed 7123 data points for test_Y.\n",
      "Parsed 7123 data points for test_word_idx.\n"
     ]
    }
   ],
   "source": [
    "train_X, train_Y, test_X, test_Y, dev_X, dev_Y, train_word_idx, test_word_idx, dev_word_idx = read_file()\n",
    "\n",
    "# cut small sets for for my laptop\n",
    "train_X = train_X[:19]\n",
    "train_Y = train_Y[:19]\n",
    "train_word_idx = train_word_idx[:19]\n",
    "\n",
    "# modify the dev set smaller for now\n",
    "new_dev_X = []\n",
    "new_dev_y = []\n",
    "new_dev_idx = []\n",
    "\n",
    "for index, sen in enumerate(dev_X):\n",
    "        \n",
    "    if sen[dev_word_idx[index]] in all_senses.keys():\n",
    "        new_dev_idx.append(dev_word_idx[index])\n",
    "        new_dev_X.append(sen)\n",
    "        new_dev_y.append(dev_Y[index])\n",
    "        \n",
    "new_dev_X = new_dev_X[:3]\n",
    "new_dev_y = new_dev_y[:3]\n",
    "new_dev_idx = new_dev_idx[:3]\n"
   ]
  },
  {
   "cell_type": "code",
   "execution_count": 10,
   "metadata": {},
   "outputs": [
    {
     "name": "stdout",
     "output_type": "stream",
     "text": [
      "Better speed can be achieved with apex installed from https://www.github.com/nvidia/apex.\n",
      "Device: cpu\n"
     ]
    },
    {
     "data": {
      "text/plain": [
       "'\\nfrom torchviz import make_dot\\n\\nmodel = Model(all_senses = all_senses, elmo_class = elmo)\\nsense_embedding = model.forward(train_X[0], train_word_idx[0])\\n'"
      ]
     },
     "execution_count": 10,
     "metadata": {},
     "output_type": "execute_result"
    }
   ],
   "source": [
    "from model import *\n",
    "from trainer import *\n",
    "\n",
    "from allennlp.commands.elmo import ElmoEmbedder\n",
    "elmo = ElmoEmbedder()\n",
    "\n",
    "'''\n",
    "from torchviz import make_dot\n",
    "\n",
    "model = Model(all_senses = all_senses, elmo_class = elmo)\n",
    "sense_embedding = model.forward(train_X[0], train_word_idx[0])\n",
    "'''"
   ]
  },
  {
   "cell_type": "code",
   "execution_count": 11,
   "metadata": {},
   "outputs": [],
   "source": [
    "# trainer\n",
    "epochs = 50\n",
    "trainer = Trainer(epochs = epochs, elmo_class = elmo, all_senses = all_senses, all_supersenses = all_supersenses)"
   ]
  },
  {
   "cell_type": "code",
   "execution_count": 12,
   "metadata": {},
   "outputs": [
    {
     "name": "stdout",
     "output_type": "stream",
     "text": [
      "#############   Model Parameters   ##############\n",
      "layers.word_sense.0.weight torch.Size([512, 512])\n",
      "layers.word_sense.0.bias torch.Size([512])\n",
      "layers.word_sense.2.weight torch.Size([300, 512])\n",
      "layers.word_sense.2.bias torch.Size([300])\n",
      "dimension_reduction_MLP.weight torch.Size([256, 3072])\n",
      "dimension_reduction_MLP.bias torch.Size([256])\n",
      "wsd_lstm.weight_ih_l0 torch.Size([1024, 256])\n",
      "wsd_lstm.weight_hh_l0 torch.Size([1024, 256])\n",
      "wsd_lstm.bias_ih_l0 torch.Size([1024])\n",
      "wsd_lstm.bias_hh_l0 torch.Size([1024])\n",
      "wsd_lstm.weight_ih_l0_reverse torch.Size([1024, 256])\n",
      "wsd_lstm.weight_hh_l0_reverse torch.Size([1024, 256])\n",
      "wsd_lstm.bias_ih_l0_reverse torch.Size([1024])\n",
      "wsd_lstm.bias_hh_l0_reverse torch.Size([1024])\n",
      "wsd_lstm.weight_ih_l1 torch.Size([1024, 512])\n",
      "wsd_lstm.weight_hh_l1 torch.Size([1024, 256])\n",
      "wsd_lstm.bias_ih_l1 torch.Size([1024])\n",
      "wsd_lstm.bias_hh_l1 torch.Size([1024])\n",
      "wsd_lstm.weight_ih_l1_reverse torch.Size([1024, 512])\n",
      "wsd_lstm.weight_hh_l1_reverse torch.Size([1024, 256])\n",
      "wsd_lstm.bias_ih_l1_reverse torch.Size([1024])\n",
      "wsd_lstm.bias_hh_l1_reverse torch.Size([1024])\n",
      "definition_embeddings.advantage torch.Size([300, 3])\n",
      "definition_embeddings.ambition torch.Size([300, 2])\n",
      "definition_embeddings.campaigning torch.Size([300, 1])\n",
      "definition_embeddings.house torch.Size([300, 12])\n",
      "definition_embeddings.level torch.Size([300, 8])\n",
      "definition_embeddings.management torch.Size([300, 2])\n",
      "definition_embeddings.overthrow torch.Size([300, 2])\n",
      "definition_embeddings.place torch.Size([300, 16])\n",
      "definition_embeddings.puppet torch.Size([300, 3])\n",
      "definition_embeddings.rate torch.Size([300, 4])\n",
      "definition_embeddings.spring torch.Size([300, 6])\n",
      "supersense_embeddings.noun_act torch.Size([300, 1])\n",
      "supersense_embeddings.noun_artifact torch.Size([300, 1])\n",
      "supersense_embeddings.noun_attribute torch.Size([300, 1])\n",
      "supersense_embeddings.noun_cognition torch.Size([300, 1])\n",
      "supersense_embeddings.noun_communication torch.Size([300, 1])\n",
      "supersense_embeddings.noun_feeling torch.Size([300, 1])\n",
      "supersense_embeddings.noun_group torch.Size([300, 1])\n",
      "supersense_embeddings.noun_location torch.Size([300, 1])\n",
      "supersense_embeddings.noun_object torch.Size([300, 1])\n",
      "supersense_embeddings.noun_person torch.Size([300, 1])\n",
      "supersense_embeddings.noun_possession torch.Size([300, 1])\n",
      "supersense_embeddings.noun_quantity torch.Size([300, 1])\n",
      "supersense_embeddings.noun_relation torch.Size([300, 1])\n",
      "supersense_embeddings.noun_state torch.Size([300, 1])\n",
      "supersense_embeddings.noun_time torch.Size([300, 1])\n",
      "##################################################\n",
      "[Epoch: 1/50]\n"
     ]
    },
    {
     "data": {
      "application/vnd.jupyter.widget-view+json": {
       "model_id": "348303a9e9a146ccb55de9327907a875",
       "version_major": 2,
       "version_minor": 0
      },
      "text/plain": [
       "HBox(children=(IntProgress(value=0, max=19), HTML(value='')))"
      ]
     },
     "metadata": {},
     "output_type": "display_data"
    },
    {
     "name": "stdout",
     "output_type": "stream",
     "text": [
      "\n",
      "Epoch: 1, Mean Training Loss: 5.69368428932993\n",
      "Epoch: 1, Mean Dev Loss: 12.573333263397217\n",
      "[Epoch: 2/50]\n"
     ]
    },
    {
     "data": {
      "application/vnd.jupyter.widget-view+json": {
       "model_id": "7b338247e43543a0adae9d287e025332",
       "version_major": 2,
       "version_minor": 0
      },
      "text/plain": [
       "HBox(children=(IntProgress(value=0, max=19), HTML(value='')))"
      ]
     },
     "metadata": {},
     "output_type": "display_data"
    },
    {
     "name": "stdout",
     "output_type": "stream",
     "text": [
      "\n",
      "Epoch: 2, Mean Training Loss: 5.635060046848498\n",
      "Epoch: 2, Mean Dev Loss: 12.546665986378988\n",
      "[Epoch: 3/50]\n"
     ]
    },
    {
     "data": {
      "application/vnd.jupyter.widget-view+json": {
       "model_id": "cf5cdc605efa4fc093693109fd5ceedb",
       "version_major": 2,
       "version_minor": 0
      },
      "text/plain": [
       "HBox(children=(IntProgress(value=0, max=19), HTML(value='')))"
      ]
     },
     "metadata": {},
     "output_type": "display_data"
    },
    {
     "name": "stdout",
     "output_type": "stream",
     "text": [
      "\n",
      "Epoch: 3, Mean Training Loss: 5.616140415793971\n",
      "Epoch: 3, Mean Dev Loss: 12.483330567677816\n",
      "[Epoch: 4/50]\n"
     ]
    },
    {
     "data": {
      "application/vnd.jupyter.widget-view+json": {
       "model_id": "420bc73ac3ef46458d350b2b0ee88ee6",
       "version_major": 2,
       "version_minor": 0
      },
      "text/plain": [
       "HBox(children=(IntProgress(value=0, max=19), HTML(value='')))"
      ]
     },
     "metadata": {},
     "output_type": "display_data"
    },
    {
     "name": "stdout",
     "output_type": "stream",
     "text": [
      "\n",
      "Epoch: 4, Mean Training Loss: 5.607368193174663\n",
      "Epoch: 4, Mean Dev Loss: 12.441109895706177\n",
      "[Epoch: 5/50]\n"
     ]
    },
    {
     "data": {
      "application/vnd.jupyter.widget-view+json": {
       "model_id": "d3e969ea2e0146fe8084d4740d4fdfaf",
       "version_major": 2,
       "version_minor": 0
      },
      "text/plain": [
       "HBox(children=(IntProgress(value=0, max=19), HTML(value='')))"
      ]
     },
     "metadata": {},
     "output_type": "display_data"
    },
    {
     "name": "stdout",
     "output_type": "stream",
     "text": [
      "\n",
      "Epoch: 5, Mean Training Loss: 5.612280669965242\n",
      "Epoch: 5, Mean Dev Loss: 12.438888947168985\n",
      "[Epoch: 6/50]\n"
     ]
    },
    {
     "data": {
      "application/vnd.jupyter.widget-view+json": {
       "model_id": "feac1849a8584eefb40f619f151753c4",
       "version_major": 2,
       "version_minor": 0
      },
      "text/plain": [
       "HBox(children=(IntProgress(value=0, max=19), HTML(value='')))"
      ]
     },
     "metadata": {},
     "output_type": "display_data"
    },
    {
     "name": "stdout",
     "output_type": "stream",
     "text": [
      "\n",
      "Epoch: 6, Mean Training Loss: 5.615789400903802\n",
      "Epoch: 6, Mean Dev Loss: 12.438888947168985\n",
      "[Epoch: 7/50]\n"
     ]
    },
    {
     "data": {
      "application/vnd.jupyter.widget-view+json": {
       "model_id": "7069530dd3fe42f2acacfce0c38bc691",
       "version_major": 2,
       "version_minor": 0
      },
      "text/plain": [
       "HBox(children=(IntProgress(value=0, max=19), HTML(value='')))"
      ]
     },
     "metadata": {},
     "output_type": "display_data"
    },
    {
     "name": "stdout",
     "output_type": "stream",
     "text": [
      "\n",
      "Epoch: 7, Mean Training Loss: 5.605438533582185\n",
      "Epoch: 7, Mean Dev Loss: 12.48222271601359\n",
      "[Epoch: 8/50]\n"
     ]
    },
    {
     "data": {
      "application/vnd.jupyter.widget-view+json": {
       "model_id": "33c89ff40a4d442e867b74aa529f5a91",
       "version_major": 2,
       "version_minor": 0
      },
      "text/plain": [
       "HBox(children=(IntProgress(value=0, max=19), HTML(value='')))"
      ]
     },
     "metadata": {},
     "output_type": "display_data"
    },
    {
     "name": "stdout",
     "output_type": "stream",
     "text": [
      "\n",
      "Epoch: 8, Mean Training Loss: 5.599298050529079\n",
      "Epoch: 8, Mean Dev Loss: 12.484444936116537\n",
      "[Epoch: 9/50]\n"
     ]
    },
    {
     "data": {
      "application/vnd.jupyter.widget-view+json": {
       "model_id": "f4a24bbd09714743bc310df840a8e208",
       "version_major": 2,
       "version_minor": 0
      },
      "text/plain": [
       "HBox(children=(IntProgress(value=0, max=19), HTML(value='')))"
      ]
     },
     "metadata": {},
     "output_type": "display_data"
    },
    {
     "name": "stdout",
     "output_type": "stream",
     "text": [
      "\n",
      "Epoch: 9, Mean Training Loss: 5.609122903723466\n",
      "Epoch: 9, Mean Dev Loss: 12.437777042388916\n",
      "[Epoch: 10/50]\n"
     ]
    },
    {
     "data": {
      "application/vnd.jupyter.widget-view+json": {
       "model_id": "35f5270f488847e7900832038a457217",
       "version_major": 2,
       "version_minor": 0
      },
      "text/plain": [
       "HBox(children=(IntProgress(value=0, max=19), HTML(value='')))"
      ]
     },
     "metadata": {},
     "output_type": "display_data"
    },
    {
     "name": "stdout",
     "output_type": "stream",
     "text": [
      "\n",
      "Epoch: 10, Mean Training Loss: 5.607193030809102\n",
      "Epoch: 10, Mean Dev Loss: 12.41333293914795\n",
      "[Epoch: 11/50]\n"
     ]
    },
    {
     "data": {
      "application/vnd.jupyter.widget-view+json": {
       "model_id": "552e8f53538f4cf59751f19f71e0e84c",
       "version_major": 2,
       "version_minor": 0
      },
      "text/plain": [
       "HBox(children=(IntProgress(value=0, max=19), HTML(value='')))"
      ]
     },
     "metadata": {},
     "output_type": "display_data"
    },
    {
     "name": "stdout",
     "output_type": "stream",
     "text": [
      "\n",
      "Epoch: 11, Mean Training Loss: 5.609122577466462\n",
      "Epoch: 11, Mean Dev Loss: 12.3811088403066\n",
      "[Epoch: 12/50]\n"
     ]
    },
    {
     "data": {
      "application/vnd.jupyter.widget-view+json": {
       "model_id": "8b456d31bbe04c8db513b0c888ce63e8",
       "version_major": 2,
       "version_minor": 0
      },
      "text/plain": [
       "HBox(children=(IntProgress(value=0, max=19), HTML(value='')))"
      ]
     },
     "metadata": {},
     "output_type": "display_data"
    },
    {
     "name": "stdout",
     "output_type": "stream",
     "text": [
      "\n",
      "Epoch: 12, Mean Training Loss: 5.612806696640818\n",
      "Epoch: 12, Mean Dev Loss: 12.38110907872518\n",
      "[Epoch: 13/50]\n"
     ]
    },
    {
     "data": {
      "application/vnd.jupyter.widget-view+json": {
       "model_id": "5eaaa2813b2643aa8618bfc4e31794ec",
       "version_major": 2,
       "version_minor": 0
      },
      "text/plain": [
       "HBox(children=(IntProgress(value=0, max=19), HTML(value='')))"
      ]
     },
     "metadata": {},
     "output_type": "display_data"
    },
    {
     "name": "stdout",
     "output_type": "stream",
     "text": [
      "\n",
      "Epoch: 13, Mean Training Loss: 5.6152628973910685\n",
      "Epoch: 13, Mean Dev Loss: 12.344444354375204\n",
      "[Epoch: 14/50]\n"
     ]
    },
    {
     "data": {
      "application/vnd.jupyter.widget-view+json": {
       "model_id": "fe4364c8413a410182628d36825e7df8",
       "version_major": 2,
       "version_minor": 0
      },
      "text/plain": [
       "HBox(children=(IntProgress(value=0, max=19), HTML(value='')))"
      ]
     },
     "metadata": {},
     "output_type": "display_data"
    },
    {
     "name": "stdout",
     "output_type": "stream",
     "text": [
      "\n",
      "Epoch: 14, Mean Training Loss: 5.60964896804408\n",
      "Epoch: 14, Mean Dev Loss: 12.377775112787882\n",
      "[Epoch: 15/50]\n"
     ]
    },
    {
     "data": {
      "application/vnd.jupyter.widget-view+json": {
       "model_id": "2deb885596224809937b2a3b598d6784",
       "version_major": 2,
       "version_minor": 0
      },
      "text/plain": [
       "HBox(children=(IntProgress(value=0, max=19), HTML(value='')))"
      ]
     },
     "metadata": {},
     "output_type": "display_data"
    },
    {
     "name": "stdout",
     "output_type": "stream",
     "text": [
      "\n",
      "Epoch: 15, Mean Training Loss: 5.612105344471178\n",
      "Epoch: 15, Mean Dev Loss: 12.357778787612915\n",
      "[Epoch: 16/50]\n"
     ]
    },
    {
     "data": {
      "application/vnd.jupyter.widget-view+json": {
       "model_id": "11735108c61b4f30a1d9aca395320e3e",
       "version_major": 2,
       "version_minor": 0
      },
      "text/plain": [
       "HBox(children=(IntProgress(value=0, max=19), HTML(value='')))"
      ]
     },
     "metadata": {},
     "output_type": "display_data"
    },
    {
     "name": "stdout",
     "output_type": "stream",
     "text": [
      "\n",
      "Epoch: 16, Mean Training Loss: 5.6159648016879435\n",
      "Epoch: 16, Mean Dev Loss: 12.344444354375204\n",
      "[Epoch: 17/50]\n"
     ]
    },
    {
     "data": {
      "application/vnd.jupyter.widget-view+json": {
       "model_id": "357af84499b34289bea77b8d2175f04d",
       "version_major": 2,
       "version_minor": 0
      },
      "text/plain": [
       "HBox(children=(IntProgress(value=0, max=19), HTML(value='')))"
      ]
     },
     "metadata": {},
     "output_type": "display_data"
    },
    {
     "name": "stdout",
     "output_type": "stream",
     "text": [
      "\n",
      "Epoch: 17, Mean Training Loss: 5.601929739901894\n",
      "Epoch: 17, Mean Dev Loss: 12.342222134272257\n",
      "[Epoch: 18/50]\n"
     ]
    },
    {
     "data": {
      "application/vnd.jupyter.widget-view+json": {
       "model_id": "a716c8ebfae9400495ab55f63f13c598",
       "version_major": 2,
       "version_minor": 0
      },
      "text/plain": [
       "HBox(children=(IntProgress(value=0, max=19), HTML(value='')))"
      ]
     },
     "metadata": {},
     "output_type": "display_data"
    },
    {
     "name": "stdout",
     "output_type": "stream",
     "text": [
      "\n",
      "Epoch: 18, Mean Training Loss: 5.603333272432026\n",
      "Epoch: 18, Mean Dev Loss: 12.35555593172709\n",
      "[Epoch: 19/50]\n"
     ]
    },
    {
     "data": {
      "application/vnd.jupyter.widget-view+json": {
       "model_id": "ad62fc671ff04cc8b80106d99ddf3561",
       "version_major": 2,
       "version_minor": 0
      },
      "text/plain": [
       "HBox(children=(IntProgress(value=0, max=19), HTML(value='')))"
      ]
     },
     "metadata": {},
     "output_type": "display_data"
    },
    {
     "name": "stdout",
     "output_type": "stream",
     "text": [
      "\n",
      "Epoch: 19, Mean Training Loss: 5.600350768942582\n",
      "Epoch: 19, Mean Dev Loss: 12.337778647740683\n",
      "[Epoch: 20/50]\n"
     ]
    },
    {
     "data": {
      "application/vnd.jupyter.widget-view+json": {
       "model_id": "b6f2e46e41b74231b2bfffbac86e9c24",
       "version_major": 2,
       "version_minor": 0
      },
      "text/plain": [
       "HBox(children=(IntProgress(value=0, max=19), HTML(value='')))"
      ]
     },
     "metadata": {},
     "output_type": "display_data"
    },
    {
     "name": "stdout",
     "output_type": "stream",
     "text": [
      "\n",
      "Epoch: 20, Mean Training Loss: 5.595789507815712\n",
      "Epoch: 20, Mean Dev Loss: 12.346666892369589\n",
      "[Epoch: 21/50]\n"
     ]
    },
    {
     "data": {
      "application/vnd.jupyter.widget-view+json": {
       "model_id": "23e80b3492904a57b2ce5442bb56bafb",
       "version_major": 2,
       "version_minor": 0
      },
      "text/plain": [
       "HBox(children=(IntProgress(value=0, max=19), HTML(value='')))"
      ]
     },
     "metadata": {},
     "output_type": "display_data"
    },
    {
     "name": "stdout",
     "output_type": "stream",
     "text": [
      "\n",
      "Epoch: 21, Mean Training Loss: 5.587719340073435\n",
      "Epoch: 21, Mean Dev Loss: 12.344443718592325\n",
      "[Epoch: 22/50]\n"
     ]
    },
    {
     "data": {
      "application/vnd.jupyter.widget-view+json": {
       "model_id": "7b595b79a58e48aeb4db9e1c2e6f4040",
       "version_major": 2,
       "version_minor": 0
      },
      "text/plain": [
       "HBox(children=(IntProgress(value=0, max=19), HTML(value='')))"
      ]
     },
     "metadata": {},
     "output_type": "display_data"
    },
    {
     "name": "stdout",
     "output_type": "stream",
     "text": [
      "\n",
      "Epoch: 22, Mean Training Loss: 5.58596500597502\n",
      "Epoch: 22, Mean Dev Loss: 12.344443718592325\n",
      "[Epoch: 23/50]\n"
     ]
    },
    {
     "data": {
      "application/vnd.jupyter.widget-view+json": {
       "model_id": "7456bb49e7b94a54aeacfc6f5de20b0a",
       "version_major": 2,
       "version_minor": 0
      },
      "text/plain": [
       "HBox(children=(IntProgress(value=0, max=19), HTML(value='')))"
      ]
     },
     "metadata": {},
     "output_type": "display_data"
    },
    {
     "name": "stdout",
     "output_type": "stream",
     "text": [
      "\n",
      "Epoch: 23, Mean Training Loss: 5.584736899325722\n",
      "Epoch: 23, Mean Dev Loss: 12.345554828643799\n",
      "[Epoch: 24/50]\n"
     ]
    },
    {
     "data": {
      "application/vnd.jupyter.widget-view+json": {
       "model_id": "1292c62c2cec4169b8f547d174d9c7e5",
       "version_major": 2,
       "version_minor": 0
      },
      "text/plain": [
       "HBox(children=(IntProgress(value=0, max=19), HTML(value='')))"
      ]
     },
     "metadata": {},
     "output_type": "display_data"
    },
    {
     "name": "stdout",
     "output_type": "stream",
     "text": [
      "\n",
      "Epoch: 24, Mean Training Loss: 5.583157940914757\n",
      "Epoch: 24, Mean Dev Loss: 12.345554828643799\n",
      "[Epoch: 25/50]\n"
     ]
    },
    {
     "data": {
      "application/vnd.jupyter.widget-view+json": {
       "model_id": "0bf3b360aac74f89911a69e935d571de",
       "version_major": 2,
       "version_minor": 0
      },
      "text/plain": [
       "HBox(children=(IntProgress(value=0, max=19), HTML(value='')))"
      ]
     },
     "metadata": {},
     "output_type": "display_data"
    },
    {
     "name": "stdout",
     "output_type": "stream",
     "text": [
      "\n",
      "Epoch: 25, Mean Training Loss: 5.583508842869809\n",
      "Epoch: 25, Mean Dev Loss: 12.354444662729898\n",
      "[Epoch: 26/50]\n"
     ]
    },
    {
     "data": {
      "application/vnd.jupyter.widget-view+json": {
       "model_id": "84e14cbc99e446dea98f58017959fedb",
       "version_major": 2,
       "version_minor": 0
      },
      "text/plain": [
       "HBox(children=(IntProgress(value=0, max=19), HTML(value='')))"
      ]
     },
     "metadata": {},
     "output_type": "display_data"
    },
    {
     "name": "stdout",
     "output_type": "stream",
     "text": [
      "\n",
      "Epoch: 26, Mean Training Loss: 5.580526063316746\n",
      "Epoch: 26, Mean Dev Loss: 12.357778151830038\n",
      "[Epoch: 27/50]\n"
     ]
    },
    {
     "data": {
      "application/vnd.jupyter.widget-view+json": {
       "model_id": "f517a56e47c24139b7928b758731534d",
       "version_major": 2,
       "version_minor": 0
      },
      "text/plain": [
       "HBox(children=(IntProgress(value=0, max=19), HTML(value='')))"
      ]
     },
     "metadata": {},
     "output_type": "display_data"
    },
    {
     "name": "stdout",
     "output_type": "stream",
     "text": [
      "\n",
      "Epoch: 27, Mean Training Loss: 5.575789250825581\n",
      "Epoch: 27, Mean Dev Loss: 12.337777217229208\n",
      "[Epoch: 28/50]\n"
     ]
    },
    {
     "data": {
      "application/vnd.jupyter.widget-view+json": {
       "model_id": "8c05db2379f14fd58be138dafc402621",
       "version_major": 2,
       "version_minor": 0
      },
      "text/plain": [
       "HBox(children=(IntProgress(value=0, max=19), HTML(value='')))"
      ]
     },
     "metadata": {},
     "output_type": "display_data"
    },
    {
     "name": "stdout",
     "output_type": "stream",
     "text": [
      "\n",
      "Epoch: 28, Mean Training Loss: 5.577543597472341\n",
      "Epoch: 28, Mean Dev Loss: 12.337777217229208\n",
      "[Epoch: 29/50]\n"
     ]
    },
    {
     "data": {
      "application/vnd.jupyter.widget-view+json": {
       "model_id": "47a4654b20874bd692f9bfee6765198e",
       "version_major": 2,
       "version_minor": 0
      },
      "text/plain": [
       "HBox(children=(IntProgress(value=0, max=19), HTML(value='')))"
      ]
     },
     "metadata": {},
     "output_type": "display_data"
    },
    {
     "name": "stdout",
     "output_type": "stream",
     "text": [
      "\n",
      "Epoch: 29, Mean Training Loss: 5.575438574740761\n",
      "Epoch: 29, Mean Dev Loss: 12.339999119440714\n",
      "[Epoch: 30/50]\n"
     ]
    },
    {
     "data": {
      "application/vnd.jupyter.widget-view+json": {
       "model_id": "490f7f4964cc48589ec7f1542ad8e6d9",
       "version_major": 2,
       "version_minor": 0
      },
      "text/plain": [
       "HBox(children=(IntProgress(value=0, max=19), HTML(value='')))"
      ]
     },
     "metadata": {},
     "output_type": "display_data"
    },
    {
     "name": "stdout",
     "output_type": "stream",
     "text": [
      "\n",
      "Epoch: 30, Mean Training Loss: 5.570877225775468\n",
      "Epoch: 30, Mean Dev Loss: 12.386665105819702\n",
      "[Epoch: 31/50]\n"
     ]
    },
    {
     "data": {
      "application/vnd.jupyter.widget-view+json": {
       "model_id": "f4ddab1c161a4661ba6d23d372457fe1",
       "version_major": 2,
       "version_minor": 0
      },
      "text/plain": [
       "HBox(children=(IntProgress(value=0, max=19), HTML(value='')))"
      ]
     },
     "metadata": {},
     "output_type": "display_data"
    },
    {
     "name": "stdout",
     "output_type": "stream",
     "text": [
      "\n",
      "Epoch: 31, Mean Training Loss: 5.569824645393773\n",
      "Epoch: 31, Mean Dev Loss: 12.386665105819702\n",
      "[Epoch: 32/50]\n"
     ]
    },
    {
     "data": {
      "application/vnd.jupyter.widget-view+json": {
       "model_id": "9fdc416be7214736b0eba62fbf5fdfac",
       "version_major": 2,
       "version_minor": 0
      },
      "text/plain": [
       "HBox(children=(IntProgress(value=0, max=19), HTML(value='')))"
      ]
     },
     "metadata": {},
     "output_type": "display_data"
    },
    {
     "name": "stdout",
     "output_type": "stream",
     "text": [
      "\n",
      "Epoch: 32, Mean Training Loss: 5.567368281515021\n",
      "Epoch: 32, Mean Dev Loss: 12.37333369255066\n",
      "[Epoch: 33/50]\n"
     ]
    },
    {
     "data": {
      "application/vnd.jupyter.widget-view+json": {
       "model_id": "b1763880c0e744458c0da409de219bf2",
       "version_major": 2,
       "version_minor": 0
      },
      "text/plain": [
       "HBox(children=(IntProgress(value=0, max=19), HTML(value='')))"
      ]
     },
     "metadata": {},
     "output_type": "display_data"
    },
    {
     "name": "stdout",
     "output_type": "stream",
     "text": [
      "\n",
      "Epoch: 33, Mean Training Loss: 5.564561229003103\n",
      "Epoch: 33, Mean Dev Loss: 12.37000036239624\n",
      "[Epoch: 34/50]\n"
     ]
    },
    {
     "data": {
      "application/vnd.jupyter.widget-view+json": {
       "model_id": "d9bc70c9827b431aae6753018d720e70",
       "version_major": 2,
       "version_minor": 0
      },
      "text/plain": [
       "HBox(children=(IntProgress(value=0, max=19), HTML(value='')))"
      ]
     },
     "metadata": {},
     "output_type": "display_data"
    },
    {
     "name": "stdout",
     "output_type": "stream",
     "text": [
      "\n",
      "Epoch: 34, Mean Training Loss: 5.56157858748185\n",
      "Epoch: 34, Mean Dev Loss: 12.374444802602133\n",
      "[Epoch: 35/50]\n"
     ]
    },
    {
     "data": {
      "application/vnd.jupyter.widget-view+json": {
       "model_id": "2c0fc2220fee4dc1a429360ae4c2e5f9",
       "version_major": 2,
       "version_minor": 0
      },
      "text/plain": [
       "HBox(children=(IntProgress(value=0, max=19), HTML(value='')))"
      ]
     },
     "metadata": {},
     "output_type": "display_data"
    },
    {
     "name": "stdout",
     "output_type": "stream",
     "text": [
      "\n",
      "Epoch: 35, Mean Training Loss: 5.568069997586702\n",
      "Epoch: 35, Mean Dev Loss: 12.352221330006918\n",
      "[Epoch: 36/50]\n"
     ]
    },
    {
     "data": {
      "application/vnd.jupyter.widget-view+json": {
       "model_id": "b109d42dd6b947ea84c110e67731b95a",
       "version_major": 2,
       "version_minor": 0
      },
      "text/plain": [
       "HBox(children=(IntProgress(value=0, max=19), HTML(value='')))"
      ]
     },
     "metadata": {},
     "output_type": "display_data"
    },
    {
     "name": "stdout",
     "output_type": "stream",
     "text": [
      "\n",
      "Epoch: 36, Mean Training Loss: 5.567192717602379\n",
      "Epoch: 36, Mean Dev Loss: 12.301111459732056\n",
      "[Epoch: 37/50]\n"
     ]
    },
    {
     "data": {
      "application/vnd.jupyter.widget-view+json": {
       "model_id": "d67d3c6dbdd7428d84483327f0c730f3",
       "version_major": 2,
       "version_minor": 0
      },
      "text/plain": [
       "HBox(children=(IntProgress(value=0, max=19), HTML(value='')))"
      ]
     },
     "metadata": {},
     "output_type": "display_data"
    },
    {
     "name": "stdout",
     "output_type": "stream",
     "text": [
      "\n",
      "Epoch: 37, Mean Training Loss: 5.567894596802561\n",
      "Epoch: 37, Mean Dev Loss: 12.287776390711466\n",
      "[Epoch: 38/50]\n"
     ]
    },
    {
     "data": {
      "application/vnd.jupyter.widget-view+json": {
       "model_id": "7a0c9ea3339744f7ad716706ab264c45",
       "version_major": 2,
       "version_minor": 0
      },
      "text/plain": [
       "HBox(children=(IntProgress(value=0, max=19), HTML(value='')))"
      ]
     },
     "metadata": {},
     "output_type": "display_data"
    },
    {
     "name": "stdout",
     "output_type": "stream",
     "text": [
      "\n",
      "Epoch: 38, Mean Training Loss: 5.567719083083303\n",
      "Epoch: 38, Mean Dev Loss: 12.276667515436808\n",
      "[Epoch: 39/50]\n"
     ]
    },
    {
     "data": {
      "application/vnd.jupyter.widget-view+json": {
       "model_id": "8e27440d20a74230b6f1ca3bf7d82eb2",
       "version_major": 2,
       "version_minor": 0
      },
      "text/plain": [
       "HBox(children=(IntProgress(value=0, max=19), HTML(value='')))"
      ]
     },
     "metadata": {},
     "output_type": "display_data"
    },
    {
     "name": "stdout",
     "output_type": "stream",
     "text": [
      "\n",
      "Epoch: 39, Mean Training Loss: 5.565789228991458\n",
      "Epoch: 39, Mean Dev Loss: 12.258888483047485\n",
      "[Epoch: 40/50]\n"
     ]
    },
    {
     "data": {
      "application/vnd.jupyter.widget-view+json": {
       "model_id": "ab68c5ae5618476f93f8ac82ad1ac1bc",
       "version_major": 2,
       "version_minor": 0
      },
      "text/plain": [
       "HBox(children=(IntProgress(value=0, max=19), HTML(value='')))"
      ]
     },
     "metadata": {},
     "output_type": "display_data"
    },
    {
     "name": "stdout",
     "output_type": "stream",
     "text": [
      "\n",
      "Epoch: 40, Mean Training Loss: 5.562631431378816\n",
      "Epoch: 40, Mean Dev Loss: 12.258888483047485\n",
      "[Epoch: 41/50]\n"
     ]
    },
    {
     "data": {
      "application/vnd.jupyter.widget-view+json": {
       "model_id": "e15537d1586a47ee9f8399fbffda6771",
       "version_major": 2,
       "version_minor": 0
      },
      "text/plain": [
       "HBox(children=(IntProgress(value=0, max=19), HTML(value='')))"
      ]
     },
     "metadata": {},
     "output_type": "display_data"
    },
    {
     "name": "stdout",
     "output_type": "stream",
     "text": [
      "\n",
      "Epoch: 41, Mean Training Loss: 5.5717541293094035\n",
      "Epoch: 41, Mean Dev Loss: 12.257776578267416\n",
      "[Epoch: 42/50]\n"
     ]
    },
    {
     "data": {
      "application/vnd.jupyter.widget-view+json": {
       "model_id": "43ac7b12d0384af3869f6d1b7d4639b6",
       "version_major": 2,
       "version_minor": 0
      },
      "text/plain": [
       "HBox(children=(IntProgress(value=0, max=19), HTML(value='')))"
      ]
     },
     "metadata": {},
     "output_type": "display_data"
    },
    {
     "name": "stdout",
     "output_type": "stream",
     "text": [
      "\n",
      "Epoch: 42, Mean Training Loss: 5.572455995961239\n",
      "Epoch: 42, Mean Dev Loss: 12.265555302302042\n",
      "[Epoch: 43/50]\n"
     ]
    },
    {
     "data": {
      "application/vnd.jupyter.widget-view+json": {
       "model_id": "e00a152dc7af4fe08051ed8672c62eda",
       "version_major": 2,
       "version_minor": 0
      },
      "text/plain": [
       "HBox(children=(IntProgress(value=0, max=19), HTML(value='')))"
      ]
     },
     "metadata": {},
     "output_type": "display_data"
    },
    {
     "name": "stdout",
     "output_type": "stream",
     "text": [
      "\n",
      "Epoch: 43, Mean Training Loss: 5.5710526265596085\n",
      "Epoch: 43, Mean Dev Loss: 12.263332287470499\n",
      "[Epoch: 44/50]\n"
     ]
    },
    {
     "data": {
      "application/vnd.jupyter.widget-view+json": {
       "model_id": "51ab778ddcb749a6910b3f4ef810c584",
       "version_major": 2,
       "version_minor": 0
      },
      "text/plain": [
       "HBox(children=(IntProgress(value=0, max=19), HTML(value='')))"
      ]
     },
     "metadata": {},
     "output_type": "display_data"
    },
    {
     "name": "stdout",
     "output_type": "stream",
     "text": [
      "\n",
      "Epoch: 44, Mean Training Loss: 5.57561373083215\n",
      "Epoch: 44, Mean Dev Loss: 12.243332624435425\n",
      "[Epoch: 45/50]\n"
     ]
    },
    {
     "data": {
      "application/vnd.jupyter.widget-view+json": {
       "model_id": "e7b53b01c4ce471f97d5c61857de5fea",
       "version_major": 2,
       "version_minor": 0
      },
      "text/plain": [
       "HBox(children=(IntProgress(value=0, max=19), HTML(value='')))"
      ]
     },
     "metadata": {},
     "output_type": "display_data"
    },
    {
     "name": "stdout",
     "output_type": "stream",
     "text": [
      "\n",
      "Epoch: 45, Mean Training Loss: 5.562280529423764\n",
      "Epoch: 45, Mean Dev Loss: 12.2433340549469\n",
      "[Epoch: 46/50]\n"
     ]
    },
    {
     "data": {
      "application/vnd.jupyter.widget-view+json": {
       "model_id": "180b3371f09f4db1b5494fb2921f37ad",
       "version_major": 2,
       "version_minor": 0
      },
      "text/plain": [
       "HBox(children=(IntProgress(value=0, max=19), HTML(value='')))"
      ]
     },
     "metadata": {},
     "output_type": "display_data"
    },
    {
     "name": "stdout",
     "output_type": "stream",
     "text": [
      "\n",
      "Epoch: 46, Mean Training Loss: 5.56175442745811\n",
      "Epoch: 46, Mean Dev Loss: 12.252220233281454\n",
      "[Epoch: 47/50]\n"
     ]
    },
    {
     "data": {
      "application/vnd.jupyter.widget-view+json": {
       "model_id": "1ce67bf04585427c8c4686ac1d232766",
       "version_major": 2,
       "version_minor": 0
      },
      "text/plain": [
       "HBox(children=(IntProgress(value=0, max=19), HTML(value='')))"
      ]
     },
     "metadata": {},
     "output_type": "display_data"
    },
    {
     "name": "stdout",
     "output_type": "stream",
     "text": [
      "\n",
      "Epoch: 47, Mean Training Loss: 5.554034885607268\n",
      "Epoch: 47, Mean Dev Loss: 12.252220233281454\n",
      "[Epoch: 48/50]\n"
     ]
    },
    {
     "data": {
      "application/vnd.jupyter.widget-view+json": {
       "model_id": "4aae056aa8294e4f85f82d2d0da3cafb",
       "version_major": 2,
       "version_minor": 0
      },
      "text/plain": [
       "HBox(children=(IntProgress(value=0, max=19), HTML(value='')))"
      ]
     },
     "metadata": {},
     "output_type": "display_data"
    },
    {
     "name": "stdout",
     "output_type": "stream",
     "text": [
      "\n",
      "Epoch: 48, Mean Training Loss: 5.547719227640252\n",
      "Epoch: 48, Mean Dev Loss: 12.236666599909464\n",
      "[Epoch: 49/50]\n"
     ]
    },
    {
     "data": {
      "application/vnd.jupyter.widget-view+json": {
       "model_id": "f531ccbeec8148bc9a09df9661ebdb8c",
       "version_major": 2,
       "version_minor": 0
      },
      "text/plain": [
       "HBox(children=(IntProgress(value=0, max=19), HTML(value='')))"
      ]
     },
     "metadata": {},
     "output_type": "display_data"
    },
    {
     "name": "stdout",
     "output_type": "stream",
     "text": [
      "\n",
      "Epoch: 49, Mean Training Loss: 5.549473737415514\n",
      "Epoch: 49, Mean Dev Loss: 12.238887707392374\n",
      "[Epoch: 50/50]\n"
     ]
    },
    {
     "data": {
      "application/vnd.jupyter.widget-view+json": {
       "model_id": "e6935cb54d374ec1849140020a9ef5ea",
       "version_major": 2,
       "version_minor": 0
      },
      "text/plain": [
       "HBox(children=(IntProgress(value=0, max=19), HTML(value='')))"
      ]
     },
     "metadata": {},
     "output_type": "display_data"
    },
    {
     "name": "stdout",
     "output_type": "stream",
     "text": [
      "\n",
      "Epoch: 50, Mean Training Loss: 5.546315531981619\n",
      "Epoch: 50, Mean Dev Loss: 12.216665665308634\n"
     ]
    }
   ],
   "source": [
    "# get the results\n",
    "# train_losses, dev_losses, dev_rs = trainer.train(train_X, train_Y, train_word_idx, dev_X, dev_Y, dev_word_idx, development = False)\n",
    "# small test\n",
    "train_losses, dev_losses, dev_rs = trainer.train(train_X, train_Y, train_word_idx, new_dev_X, new_dev_y, new_dev_idx, development = False)\n",
    "\n"
   ]
  },
  {
   "cell_type": "code",
   "execution_count": 13,
   "metadata": {},
   "outputs": [],
   "source": [
    "# plot the learning curve\n",
    "import matplotlib\n",
    "import matplotlib.pyplot as plt\n",
    "from matplotlib import rc\n",
    "\n",
    "with open('train_loss.tsv', mode = 'w') as loss_file:\n",
    "        \n",
    "    csv_writer = csv.writer(loss_file)\n",
    "    csv_writer.writerow(train_losses)\n",
    "\n",
    "    \n",
    "with open('dev_loss.tsv', mode = 'w') as loss_file:\n",
    "        \n",
    "    csv_writer = csv.writer(loss_file)\n",
    "    csv_writer.writerow(dev_losses)"
   ]
  },
  {
   "cell_type": "code",
   "execution_count": 14,
   "metadata": {},
   "outputs": [],
   "source": [
    "plt.figure(1)\n",
    "rc('text', usetex = True)\n",
    "rc('font', family='serif')\n",
    "plt.grid(True, ls = '-.',alpha = 0.4)\n",
    "plt.plot(train_losses, ms = 4, marker = 's', label = \"Train Loss\")\n",
    "plt.legend(loc = \"best\")\n",
    "title = \"Cosine Similarity Loss (number of examples: \" + str(len(train_X)) + \")\"\n",
    "plt.title(title)\n",
    "plt.ylabel('Loss')\n",
    "plt.xlabel('Number of Iteration')\n",
    "plt.tight_layout()\n",
    "plt.savefig('train_loss.png')"
   ]
  },
  {
   "cell_type": "code",
   "execution_count": 15,
   "metadata": {},
   "outputs": [],
   "source": [
    "plt.figure(2)\n",
    "rc('text', usetex = True)\n",
    "rc('font', family='serif')\n",
    "plt.grid(True, ls = '-.',alpha = 0.4)\n",
    "plt.plot(dev_losses, ms = 4, marker = 'o', label = \"Dev Loss\")\n",
    "plt.legend(loc = \"best\")\n",
    "title = \"Cosine Similarity Loss (number of examples: \" + str(len(train_X)) + \")\"\n",
    "plt.title(title)\n",
    "plt.ylabel('Loss')\n",
    "plt.xlabel('Number of Iteration')\n",
    "plt.tight_layout()\n",
    "plt.savefig('dev_loss.png')"
   ]
  },
  {
   "cell_type": "code",
   "execution_count": 48,
   "metadata": {},
   "outputs": [
    {
     "name": "stdout",
     "output_type": "stream",
     "text": [
      "test size: 157\n",
      "overall accuracy: 0.25477707006369427\n",
      "word: level, rates: [0. 0. 0. 0. 0. 0. 1. 0.]\n",
      "word: rate, rates: [nan  0.  1.  0.]\n",
      "word: house, rates: [ 0. nan nan nan nan nan nan nan nan nan nan  0.]\n",
      "word: management, rates: [nan  1.]\n",
      "word: advantage, rates: [ 1. nan nan]\n",
      "word: place, rates: [0. 0. 0. 1. 0. 0. 0. 0. 0. 0. 0. 0. 0. 0. 0. 0.]\n"
     ]
    },
    {
     "name": "stderr",
     "output_type": "stream",
     "text": [
      "/Library/Frameworks/Python.framework/Versions/3.6/lib/python3.6/site-packages/ipykernel_launcher.py:62: RuntimeWarning: invalid value encountered in true_divide\n"
     ]
    }
   ],
   "source": [
    "# test the model\n",
    "# modify the test set smaller for now\n",
    "import numpy as np\n",
    "\n",
    "new_test_X = []\n",
    "new_test_y = []\n",
    "new_test_idx = []\n",
    "target_words = set()\n",
    "\n",
    "for index, sen in enumerate(test_X):\n",
    "    \n",
    "    # only test known words\n",
    "    if sen[test_word_idx[index]] in all_senses.keys():\n",
    "        \n",
    "        new_test_idx.append(test_word_idx[index])\n",
    "        new_test_X.append(sen)\n",
    "        new_test_y.append(test_Y[index])\n",
    "        target_words.add(sen[test_word_idx[index]])\n",
    "\n",
    "# new_test_idx = new_test_idx[120:130]\n",
    "# new_test_X = new_test_X[120:130]\n",
    "# new_test_y = new_test_y[120:130]\n",
    "\n",
    "cos = nn.CosineSimilarity(dim = 0, eps = 1e-6)\n",
    "correct_count = 0\n",
    "\n",
    "temp_base = {}\n",
    "temp_true = {}\n",
    "for word in target_words:\n",
    "    if temp_base.get(word, 'e') == 'e':\n",
    "        temp_base[word] = [0 for _ in range(len(all_senses[word]))]\n",
    "        temp_true[word] = [0 for _ in range(len(all_senses[word]))]\n",
    "        \n",
    "# overall accuracy\n",
    "for test_idx, test_sen in enumerate(new_test_X):\n",
    "    \n",
    "    test_lemma = test_sen[new_test_idx[test_idx]]\n",
    "    test_emb = trainer._model.forward(test_sen, new_test_idx[test_idx])\n",
    "    all_similarity = []\n",
    "    \n",
    "    for k, sense in enumerate(all_senses[test_lemma]):\n",
    "        definition_vec = trainer._model.definition_embeddings[test_lemma][:, k].view(trainer._model.output_size, -1)\n",
    "        cos_sim = cos(test_emb, definition_vec)\n",
    "        all_similarity.append(cos_sim)\n",
    "        \n",
    "        if new_test_y[test_idx][k] == 1:\n",
    "            temp_base[test_lemma][k] += 1\n",
    "    \n",
    "    test_result = all_similarity.index(max(all_similarity))\n",
    "    if new_test_y[test_idx][test_result] == 1:\n",
    "        correct_count += 1\n",
    "        temp_true[test_lemma][test_result] += 1\n",
    "\n",
    "print('test size: {}'.format(len(new_test_X)))\n",
    "print('overall accuracy: {}'.format(correct_count / len(new_test_X)))\n",
    "\n",
    "for word in temp_true.keys():\n",
    "    base = np.asarray(temp_base[word])\n",
    "    true = np.asarray(temp_true[word])\n",
    "    \n",
    "    # true positive rates\n",
    "    true_pos = true / base\n",
    "    print('word: {}, rates: {}'.format(word, true_pos))\n",
    "    "
   ]
  },
  {
   "cell_type": "code",
   "execution_count": null,
   "metadata": {},
   "outputs": [],
   "source": []
  }
 ],
 "metadata": {
  "kernelspec": {
   "display_name": "Python 3",
   "language": "python",
   "name": "python3"
  },
  "language_info": {
   "codemirror_mode": {
    "name": "ipython",
    "version": 3
   },
   "file_extension": ".py",
   "mimetype": "text/x-python",
   "name": "python",
   "nbconvert_exporter": "python",
   "pygments_lexer": "ipython3",
   "version": "3.6.6"
  }
 },
 "nbformat": 4,
 "nbformat_minor": 2
}
