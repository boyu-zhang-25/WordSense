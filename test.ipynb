{
 "cells": [
  {
   "cell_type": "code",
   "execution_count": 1,
   "metadata": {},
   "outputs": [
    {
     "name": "stdout",
     "output_type": "stream",
     "text": [
      "Better speed can be achieved with apex installed from https://www.github.com/nvidia/apex.\n"
     ]
    }
   ],
   "source": [
    "import csv\n",
    "import math\n",
    "import string\n",
    "import itertools\n",
    "from io import open\n",
    "from conllu import parse_incr\n",
    "import torch\n",
    "import torch.nn as nn\n",
    "import torch.nn.functional as F\n",
    "from allennlp.commands.elmo import ElmoEmbedder\n",
    "elmo = ElmoEmbedder()"
   ]
  },
  {
   "cell_type": "code",
   "execution_count": 2,
   "metadata": {},
   "outputs": [
    {
     "name": "stdout",
     "output_type": "stream",
     "text": [
      "tensor(0., grad_fn=<MeanBackward1>)\n",
      "tensor([[0.],\n",
      "        [0.],\n",
      "        [0.]])\n",
      "tensor([[0.0000e+00],\n",
      "        [1.1921e-07],\n",
      "        [0.0000e+00]])\n",
      "tensor([[1.],\n",
      "        [1.],\n",
      "        [1.]], requires_grad=True)\n"
     ]
    }
   ],
   "source": [
    "from torch.nn import CosineEmbeddingLoss\n",
    "import torch.optim as optim\n",
    "\n",
    "sense_vec = torch.ones(3, 1)\n",
    "sense_vec.requires_grad = True\n",
    "def_vec = torch.randn(3, 1)\n",
    "def_vec.requires_grad = True\n",
    "\n",
    "opt = optim.Adam([sense_vec, def_vec])\n",
    "l = CosineEmbeddingLoss()\n",
    "test_vec = torch.ones(def_vec.size())\n",
    "\n",
    "for i in range(1):\n",
    "    \n",
    "    opt.zero_grad()\n",
    "    loss = l(sense_vec, def_vec, test_vec)\n",
    "    print(loss)\n",
    "    loss.backward()\n",
    "    print(sense_vec.grad)\n",
    "    print(def_vec.grad)\n",
    "    \n",
    "    opt.step()\n",
    "\n",
    "print(sense_vec)"
   ]
  },
  {
   "cell_type": "code",
   "execution_count": 3,
   "metadata": {},
   "outputs": [],
   "source": [
    "'''\n",
    "return: \n",
    "all sentences\n",
    "target word index\n",
    "target word lemma\n",
    "target word sense\n",
    "all senses for each word \n",
    "from the EUD for train, test, and dev dataset\n",
    "index provided by WSD dataset by White et. al.\n",
    "'''\n",
    "# get all the senses and definitions for each word from WSD dataset\n",
    "# order of senses and definitions are in order\n",
    "def get_all_senses_and_definitions(wsd_data):\n",
    "\n",
    "    # all senses for each \n",
    "    all_senses = {}\n",
    "    all_definitions = {}\n",
    "    \n",
    "    # for test purpose: only load specific amount of data\n",
    "    for i in range(60):\n",
    "\n",
    "        # get the original sentence from EUD\n",
    "        sentence_id = wsd_data[i].get('Sentence.ID')\n",
    "        \n",
    "        # remove punctuations from definitions?\n",
    "        definition = wsd_data[i].get('Sense.Definition').translate(str.maketrans('', '', string.punctuation)).split(' ')\n",
    "        \n",
    "        # the index in EUD is 1-based!!!\n",
    "        sentence_number = int(sentence_id.split(' ')[-1]) - 1\n",
    "        word_index = int(wsd_data[i].get('Arg.Token')) - 1\n",
    "        word_lemma = wsd_data[i].get('Arg.Lemma')\n",
    "        word_sense = wsd_data[i].get('Synset')\n",
    "        response = wsd_data[i].get('Sense.Response')\n",
    "\n",
    "        # if the word already exits: add the new sense to the list\n",
    "        # else: creata a new list for the word\n",
    "        if word_lemma in all_senses.keys():\n",
    "            if word_sense not in all_senses[word_lemma]:\n",
    "                all_senses[word_lemma].append(word_sense)\n",
    "        else:\n",
    "            all_senses[word_lemma] = []\n",
    "            all_senses[word_lemma].append(word_sense)            \n",
    "            \n",
    "        if word_lemma in all_definitions.keys():\n",
    "            if definition not in all_definitions[word_lemma]:\n",
    "                # split to list before store\n",
    "                all_definitions[word_lemma].append(definition)\n",
    "        else:\n",
    "            all_definitions[word_lemma] = []\n",
    "            all_definitions[word_lemma].append(definition)\n",
    "        \n",
    "    return all_senses, all_definitions"
   ]
  },
  {
   "cell_type": "code",
   "execution_count": 4,
   "metadata": {},
   "outputs": [],
   "source": [
    "# parse the WSD dataset first\n",
    "# and retrieve all sentences from the EUD\n",
    "\n",
    "'''\n",
    "Copyright@\n",
    "White, A. S., D. Reisinger, K. Sakaguchi, T. Vieira, S. Zhang, R. Rudinger, K. Rawlins, & B. Van Durme. 2016. \n",
    "[Universal decompositional semantics on universal dependencies]\n",
    "(http://aswhite.net/media/papers/white_universal_2016.pdf). \n",
    "To appear in *Proceedings of the Conference on Empirical Methods in Natural Language Processing 2016*.\n",
    "'''\n",
    "\n",
    "# parse the WSD dataset and construct X_Y tensors\n",
    "def parse_data():\n",
    "\n",
    "    # parse the EUD-EWT conllu files and retrieve the sentences\n",
    "    # remove all punctuation?\n",
    "    train_file = open(\"data/UD_English-EWT/en_ewt-ud-train.conllu\", \"r\", encoding=\"utf-8\")\n",
    "    train_data = list(parse_incr(train_file))\n",
    "    # train_data = [[''.join(c for c in word.get('lemma') if c not in string.punctuation) for word in token_list] for token_list in train_data]\n",
    "    # train_data = [[word for word in s if word] for s in train_data]\n",
    "    print('Parsed {} training data from UD_English-EWT/en_ewt-ud-train.conllu.'.format(len(train_data)))\n",
    "\n",
    "    test_file = open(\"data/UD_English-EWT/en_ewt-ud-test.conllu\", \"r\", encoding=\"utf-8\")\n",
    "    test_data = list(parse_incr(test_file))\n",
    "    # test_data = [[''.join(c for c in word.get('lemma') if c not in string.punctuation) for word in token_list] for token_list in test_data]\n",
    "    # test_data = [[word for word in s if word] for s in test_data]\n",
    "    print('Parsed {} testing data from UD_English-EWT/en_ewt-ud-test.conllu.'.format(len(test_data)))\n",
    "\n",
    "    dev_file = open(\"data/UD_English-EWT/en_ewt-ud-dev.conllu\", \"r\", encoding=\"utf-8\")\n",
    "    dev_data = list(parse_incr(dev_file))\n",
    "    # dev_data = [[''.join(c for c in word.get('lemma') if c not in string.punctuation) for word in token_list] for token_list in dev_data]\n",
    "    # dev_data = [[word for word in s if word] for s in dev_data]\n",
    "    print('Parsed {} dev data from UD_English-EWT/en_ewt-ud-dev.conllu.'.format(len(dev_data)))\n",
    "\n",
    "    # parse the WSD dataset\n",
    "    wsd_data = []\n",
    "\n",
    "    # read in tsv by White et. al., 2016\n",
    "    with open('data/wsd/wsd_eng_ud1.2_10262016.tsv', mode = 'r') as wsd_file:\n",
    "\n",
    "        tsv_reader = csv.DictReader(wsd_file, delimiter = '\\t')      \n",
    "\n",
    "        # store the data: ordered dict row\n",
    "        for row in tsv_reader:                                \n",
    "\n",
    "            # each data vector\n",
    "            wsd_data.append(row)\n",
    "\n",
    "        # make sure all data are parsed\n",
    "        print('Parsed {} word sense data from White et. al., 2016.'.format(len(wsd_data)))\n",
    "\n",
    "    return wsd_data, train_data, test_data, dev_data"
   ]
  },
  {
   "cell_type": "code",
   "execution_count": 5,
   "metadata": {},
   "outputs": [
    {
     "name": "stdout",
     "output_type": "stream",
     "text": [
      "Parsed 12543 training data from UD_English-EWT/en_ewt-ud-train.conllu.\n",
      "Parsed 2077 testing data from UD_English-EWT/en_ewt-ud-test.conllu.\n",
      "Parsed 2002 dev data from UD_English-EWT/en_ewt-ud-dev.conllu.\n",
      "Parsed 439312 word sense data from White et. al., 2016.\n"
     ]
    }
   ],
   "source": [
    "# parse the data\n",
    "wsd_data, train_data, test_data, dev_data = parse_data()\n",
    "\n",
    "# return the raw sentences from the EUD for train, test, and dev\n",
    "# test the first 20 sentences\n",
    "all_senses, all_definitions = get_all_senses_and_definitions(wsd_data)\n"
   ]
  },
  {
   "cell_type": "code",
   "execution_count": 6,
   "metadata": {},
   "outputs": [],
   "source": [
    "'''\n",
    "Construct the X and Y for train, dev, and test from White et. al., 2016\n",
    "For each anonator and each word, on pair of data and label will be created\n",
    "Warning: code here is hard to read LMAO\n",
    "'''\n",
    "def construct_X_Y(all_senses, all_definitions, train_data, dev_data, test_data):\n",
    "    \n",
    "    wsd_data = []\n",
    "    \n",
    "    with open('data/wsd/wsd_eng_ud1.2_10262016.tsv', mode = 'r') as wsd_file:\n",
    "        \n",
    "        tsv_reader = csv.DictReader(wsd_file, delimiter = '\\t')\n",
    "        \n",
    "        # same annotator and same sentence number will generate on pair of X_Y\n",
    "        # manually set the first sentence from White et. al., 2016\n",
    "        current_annotator = '0'\n",
    "        current_sentence_num = '1364'\n",
    "        current_Y = [0 for _ in range(len(all_senses['spring']))]           \n",
    "        sentence = train_data[1363]\n",
    "        \n",
    "        # word from the EUD is a ordered dict for word properties\n",
    "        # use key 'lemma' to get the literal representations\n",
    "        current_X = [word.get('lemma') for word in sentence]\n",
    "        current_idx = 12\n",
    "        \n",
    "        # lists X and Y\n",
    "        train_X, test_X, dev_X = ([] for i in range(3))\n",
    "        train_Y, test_Y, dev_Y = ([] for i in range(3))\n",
    "        train_word_idx, test_word_idx, dev_word_idx = ([] for i in range(3))\n",
    "\n",
    "        for idx, row in enumerate(tsv_reader):\n",
    "                        \n",
    "            # training set; only test first 30 training sentences for now\n",
    "            if idx < 60 and row['Split'] == 'train':\n",
    "                \n",
    "                # if still is the same annotatior, word index, target word\n",
    "                # modify Y with the sense reponse\n",
    "                if current_annotator == row['Annotator.ID'] and current_idx == int(row['Arg.Token']) - 1 and current_sentence_num == row['Sentence.ID'].split(' ')[-1]:\n",
    "                    \n",
    "                    sense_idx = all_senses[row['Arg.Lemma']].index(row['Synset'])\n",
    "                    if row['Sense.Response'] == 'True':\n",
    "                        current_Y[sense_idx] = 1\n",
    "                    else:\n",
    "                        current_Y[sense_idx] = 0\n",
    "                \n",
    "                # if switch annotator or target word\n",
    "                # append the Y and X from the last annotator and word\n",
    "                # start a new Y and X for the current annotator and target\n",
    "                else:\n",
    "                    # print('h2: {}'.format(idx))\n",
    "                    # sentence\n",
    "                    train_X.append(current_X)\n",
    "                    # annotator responses, e.g., [1, 0, ...]\n",
    "                    train_Y.append(current_Y)\n",
    "                    train_word_idx.append(current_idx)\n",
    "                    \n",
    "                    current_annotator = row['Annotator.ID']\n",
    "                    current_sentence_num = row['Sentence.ID'].split(' ')[-1]\n",
    "                    \n",
    "                    current_idx = int(row['Arg.Token']) - 1\n",
    "                    current_Y = [0 for _ in range(len(all_senses[row['Arg.Lemma']]))]\n",
    "                    sense_idx = all_senses[row['Arg.Lemma']].index(row['Synset'])\n",
    "                    if row['Sense.Response'] == 'True':\n",
    "                        current_Y[sense_idx] = 1\n",
    "                    else:\n",
    "                        current_Y[sense_idx] = 0\n",
    "                    \n",
    "                    sentence_id = row['Sentence.ID']\n",
    "                    sentence_number = int(sentence_id.split(' ')[-1]) - 1\n",
    "                    sentence = train_data[sentence_number]\n",
    "                    current_X = [word.get('lemma') for word in sentence]\n",
    "                    \n",
    "            # testing set\n",
    "            elif idx < 60 and row['Split'] == 'test':\n",
    "                \n",
    "                if current_annotator == row['Annotator.ID'] and current_idx == int(row['Arg.Token']) - 1 and current_sentence_num == row['Sentence.ID'].split(' ')[-1]:\n",
    "                    \n",
    "                    sense_idx = all_senses[row['Arg.Lemma']].index(row['Synset'])\n",
    "                    if row['Sense.Response'] == 'True':\n",
    "                        current_Y[sense_idx] = 1\n",
    "                    else:\n",
    "                        current_Y[sense_idx] = 0\n",
    "                else:\n",
    "                    test_X.append(current_X)\n",
    "                    test_Y.append(current_Y)\n",
    "                    test_word_idx.append(current_idx)\n",
    "\n",
    "                    current_annotator = row['Annotator.ID']\n",
    "                    current_sentence_num = row['Sentence.ID'].split(' ')[-1]\n",
    "\n",
    "                    current_idx = int(row['Arg.Token']) - 1\n",
    "                    current_Y = [0 for _ in range(len(all_senses[row['Arg.Lemma']]))]\n",
    "                    sense_idx = all_senses[row['Arg.Lemma']].index(row['Synset'])\n",
    "                    if row['Sense.Response'] == 'True':\n",
    "                        current_Y[sense_idx] = 1\n",
    "                    else:\n",
    "                        current_Y[sense_idx] = 0\n",
    "                    \n",
    "                    sentence_id = row['Sentence.ID']\n",
    "                    sentence_number = int(sentence_id.split(' ')[-1]) - 1\n",
    "                    sentence = test_data[sentence_number]\n",
    "                    current_X = [word.get('lemma') for word in sentence]\n",
    "                    \n",
    "            # dev set       \n",
    "            elif idx < 60:\n",
    "                if current_annotator == row['Annotator.ID'] and current_idx == int(row['Arg.Token']) - 1 and current_sentence_num == row['Sentence.ID'].split(' ')[-1]:\n",
    "                    \n",
    "                    sense_idx = all_senses[row['Arg.Lemma']].index(row['Synset'])\n",
    "                    if row['Sense.Response'] == 'True':\n",
    "                        current_Y[sense_idx] = 1\n",
    "                    else:\n",
    "                        current_Y[sense_idx] = 0\n",
    "                else:\n",
    "                    dev_X.append(current_X)\n",
    "                    dev_Y.append(current_Y)\n",
    "                    dev_word_idx.append(current_idx)\n",
    "\n",
    "                    current_annotator = row['Annotator.ID']\n",
    "                    current_sentence_num = row['Sentence.ID'].split(' ')[-1]\n",
    "\n",
    "                    current_idx = int(row['Arg.Token']) - 1\n",
    "                    current_Y = [0 for _ in range(len(all_senses[row['Arg.Lemma']]))]\n",
    "                    sense_idx = all_senses[row['Arg.Lemma']].index(row['Synset'])\n",
    "                    if row['Sense.Response'] == 'True':\n",
    "                        current_Y[sense_idx] = 1\n",
    "                    else:\n",
    "                        current_Y[sense_idx] = 0\n",
    "                    \n",
    "                    sentence_id = row['Sentence.ID']\n",
    "                    sentence_number = int(sentence_id.split(' ')[-1]) - 1\n",
    "                    sentence = dev_data[sentence_number]\n",
    "                    current_X = [word.get('lemma') for word in sentence]\n",
    "        \n",
    "        print('\\n******************* Data Example ***********************')\n",
    "        print('Sentence: {}'.format(train_X[0]))\n",
    "        print('Annotator Response, i.e., true label: {}'.format(train_Y[0]))\n",
    "        print('Target Word Index: {}'.format(train_word_idx[0]))\n",
    "        print('All senses for the target word: {}'.format(all_senses[train_X[0][train_word_idx[0]]]))\n",
    "        print('All definitions (in order of its senses from WordNet): {}'.format(all_definitions[train_X[0][train_word_idx[0]]]))\n",
    "        print('********************************************************')\n",
    "        \n",
    "        return train_X, test_X, dev_X, train_Y, test_Y, dev_Y, train_word_idx, test_word_idx, dev_word_idx\n",
    "                    "
   ]
  },
  {
   "cell_type": "code",
   "execution_count": 7,
   "metadata": {},
   "outputs": [
    {
     "name": "stdout",
     "output_type": "stream",
     "text": [
      "\n",
      "******************* Data Example ***********************\n",
      "Sentence: ['on', 'August', '9', ',', '2004', ',', 'it', 'be', 'announce', 'that', 'in', 'the', 'spring', 'of', '2001', ',', 'a', 'man', 'name', 'El', '-', 'Shukrijumah', ',', 'also', 'know', 'as', 'Jafar', 'the', 'Pilot', ',', 'who', 'be', 'part', 'of', 'a', '\"', 'second', 'wave', ',', '\"', 'have', 'be', 'case', 'New', 'York', 'City', 'helicopter', '.']\n",
      "Annotator Response, i.e., true label: [1, 0, 0, 0, 0, 0]\n",
      "Target Word Index: 12\n",
      "All senses for the target word: ['spring.n.01', 'spring.n.02', 'spring.n.03', 'spring.n.04', 'give.n.01', 'leap.n.01']\n",
      "All definitions (in order of its senses from WordNet): [['the', 'season', 'of', 'growth'], ['a', 'metal', 'elastic', 'device', 'that', 'returns', 'to', 'its', 'shape', 'or', 'position', 'when', 'pushed', 'or', 'pulled', 'or', 'pressed'], ['a', 'natural', 'flow', 'of', 'ground', 'water'], ['a', 'point', 'at', 'which', 'water', 'issues', 'forth'], ['the', 'elasticity', 'of', 'something', 'that', 'can', 'be', 'stretched', 'and', 'returns', 'to', 'its', 'original', 'length'], ['a', 'light', 'selfpropelled', 'movement', 'upwards', 'or', 'forwards']]\n",
      "********************************************************\n"
     ]
    }
   ],
   "source": [
    "# get the X and Y for models\n",
    "train_X, test_X, dev_X, train_Y, test_Y, dev_Y, train_word_idx, test_word_idx, dev_word_idx = construct_X_Y(all_senses, all_definitions, train_data, dev_data, test_data)\n"
   ]
  },
  {
   "cell_type": "code",
   "execution_count": 8,
   "metadata": {},
   "outputs": [
    {
     "name": "stdout",
     "output_type": "stream",
     "text": [
      "Device: cpu\n"
     ]
    },
    {
     "data": {
      "text/plain": [
       "'\\nfrom torchviz import make_dot\\n\\nmodel = Model(all_senses = all_senses, elmo_class = elmo)\\nfor name, param in model.named_parameters():\\n    if param.requires_grad == True:\\n        print(name, param.size())\\n        \\noutput = model(train_X[0], train_word_idx[0])\\nprint(output.size())\\n\\nmake_dot(output, model.parameters())\\n'"
      ]
     },
     "execution_count": 8,
     "metadata": {},
     "output_type": "execute_result"
    }
   ],
   "source": [
    "from model import *\n",
    "from trainer import *\n",
    "'''\n",
    "from torchviz import make_dot\n",
    "\n",
    "model = Model(all_senses = all_senses, elmo_class = elmo)\n",
    "for name, param in model.named_parameters():\n",
    "    if param.requires_grad == True:\n",
    "        print(name, param.size())\n",
    "        \n",
    "output = model(train_X[0], train_word_idx[0])\n",
    "print(output.size())\n",
    "\n",
    "make_dot(output, model.parameters())\n",
    "'''"
   ]
  },
  {
   "cell_type": "code",
   "execution_count": 9,
   "metadata": {},
   "outputs": [],
   "source": [
    "epochs = 50\n",
    "trainer = Trainer(epochs = epochs, elmo_class = elmo, all_senses = all_senses)"
   ]
  },
  {
   "cell_type": "code",
   "execution_count": 11,
   "metadata": {},
   "outputs": [
    {
     "name": "stdout",
     "output_type": "stream",
     "text": [
      "#############   Model Parameters   ##############\n",
      "layers.word_sense.0.weight torch.Size([512, 512])\n",
      "layers.word_sense.0.bias torch.Size([512])\n",
      "layers.word_sense.2.weight torch.Size([300, 512])\n",
      "layers.word_sense.2.bias torch.Size([300])\n",
      "dimension_reduction_MLP.weight torch.Size([256, 3072])\n",
      "dimension_reduction_MLP.bias torch.Size([256])\n",
      "wsd_lstm.weight_ih_l0 torch.Size([1024, 256])\n",
      "wsd_lstm.weight_hh_l0 torch.Size([1024, 256])\n",
      "wsd_lstm.bias_ih_l0 torch.Size([1024])\n",
      "wsd_lstm.bias_hh_l0 torch.Size([1024])\n",
      "wsd_lstm.weight_ih_l0_reverse torch.Size([1024, 256])\n",
      "wsd_lstm.weight_hh_l0_reverse torch.Size([1024, 256])\n",
      "wsd_lstm.bias_ih_l0_reverse torch.Size([1024])\n",
      "wsd_lstm.bias_hh_l0_reverse torch.Size([1024])\n",
      "wsd_lstm.weight_ih_l1 torch.Size([1024, 512])\n",
      "wsd_lstm.weight_hh_l1 torch.Size([1024, 256])\n",
      "wsd_lstm.bias_ih_l1 torch.Size([1024])\n",
      "wsd_lstm.bias_hh_l1 torch.Size([1024])\n",
      "wsd_lstm.weight_ih_l1_reverse torch.Size([1024, 512])\n",
      "wsd_lstm.weight_hh_l1_reverse torch.Size([1024, 256])\n",
      "wsd_lstm.bias_ih_l1_reverse torch.Size([1024])\n",
      "wsd_lstm.bias_hh_l1_reverse torch.Size([1024])\n",
      "definition_embeddings.advantage torch.Size([300, 3])\n",
      "definition_embeddings.ambition torch.Size([300, 2])\n",
      "definition_embeddings.house torch.Size([300, 12])\n",
      "definition_embeddings.management torch.Size([300, 2])\n",
      "definition_embeddings.overthrow torch.Size([300, 2])\n",
      "definition_embeddings.rate torch.Size([300, 4])\n",
      "definition_embeddings.spring torch.Size([300, 6])\n",
      "##################################################\n",
      "[Epoch: 1/50]\n"
     ]
    },
    {
     "data": {
      "application/vnd.jupyter.widget-view+json": {
       "model_id": "0b69fa03527b4b3aa6e4a086b2664645",
       "version_major": 2,
       "version_minor": 0
      },
      "text/plain": [
       "HBox(children=(IntProgress(value=0, max=12), HTML(value='')))"
      ]
     },
     "metadata": {},
     "output_type": "display_data"
    },
    {
     "name": "stdout",
     "output_type": "stream",
     "text": [
      "\n",
      "Epoch: 1, Mean Training Loss: 2.9486106634140015\n",
      "[Epoch: 2/50]\n"
     ]
    },
    {
     "data": {
      "application/vnd.jupyter.widget-view+json": {
       "model_id": "963cc0ccdc7a4e558e6ca0a748619952",
       "version_major": 2,
       "version_minor": 0
      },
      "text/plain": [
       "HBox(children=(IntProgress(value=0, max=12), HTML(value='')))"
      ]
     },
     "metadata": {},
     "output_type": "display_data"
    },
    {
     "name": "stdout",
     "output_type": "stream",
     "text": [
      "\n",
      "Epoch: 2, Mean Training Loss: 2.9463888804117837\n",
      "[Epoch: 3/50]\n"
     ]
    },
    {
     "data": {
      "application/vnd.jupyter.widget-view+json": {
       "model_id": "e0062672e3eb453fb1b626a1c38127b6",
       "version_major": 2,
       "version_minor": 0
      },
      "text/plain": [
       "HBox(children=(IntProgress(value=0, max=12), HTML(value='')))"
      ]
     },
     "metadata": {},
     "output_type": "display_data"
    },
    {
     "name": "stdout",
     "output_type": "stream",
     "text": [
      "\n",
      "Epoch: 3, Mean Training Loss: 2.9290804167588553\n",
      "[Epoch: 4/50]\n"
     ]
    },
    {
     "data": {
      "application/vnd.jupyter.widget-view+json": {
       "model_id": "bcb829e671804b6694ef2e5488a897e4",
       "version_major": 2,
       "version_minor": 0
      },
      "text/plain": [
       "HBox(children=(IntProgress(value=0, max=12), HTML(value='')))"
      ]
     },
     "metadata": {},
     "output_type": "display_data"
    },
    {
     "name": "stdout",
     "output_type": "stream",
     "text": [
      "\n",
      "Epoch: 4, Mean Training Loss: 2.919999192158381\n",
      "[Epoch: 5/50]\n"
     ]
    },
    {
     "data": {
      "application/vnd.jupyter.widget-view+json": {
       "model_id": "fc015d4c50ad48c48df70c9a97b11ffc",
       "version_major": 2,
       "version_minor": 0
      },
      "text/plain": [
       "HBox(children=(IntProgress(value=0, max=12), HTML(value='')))"
      ]
     },
     "metadata": {},
     "output_type": "display_data"
    },
    {
     "name": "stdout",
     "output_type": "stream",
     "text": [
      "\n",
      "Epoch: 5, Mean Training Loss: 2.8983333806196847\n",
      "[Epoch: 6/50]\n"
     ]
    },
    {
     "data": {
      "application/vnd.jupyter.widget-view+json": {
       "model_id": "d365912b96b54b80bdfc70ec30fc7881",
       "version_major": 2,
       "version_minor": 0
      },
      "text/plain": [
       "HBox(children=(IntProgress(value=0, max=12), HTML(value='')))"
      ]
     },
     "metadata": {},
     "output_type": "display_data"
    },
    {
     "name": "stdout",
     "output_type": "stream",
     "text": [
      "\n",
      "Epoch: 6, Mean Training Loss: 2.886666625738144\n",
      "[Epoch: 7/50]\n"
     ]
    },
    {
     "data": {
      "application/vnd.jupyter.widget-view+json": {
       "model_id": "c5bb82588f5046deb1d2f42c048b0403",
       "version_major": 2,
       "version_minor": 0
      },
      "text/plain": [
       "HBox(children=(IntProgress(value=0, max=12), HTML(value='')))"
      ]
     },
     "metadata": {},
     "output_type": "display_data"
    },
    {
     "name": "stdout",
     "output_type": "stream",
     "text": [
      "\n",
      "Epoch: 7, Mean Training Loss: 2.8963888386885324\n",
      "[Epoch: 8/50]\n"
     ]
    },
    {
     "data": {
      "application/vnd.jupyter.widget-view+json": {
       "model_id": "cd7fb1dc04984b428e884d816b2fbb90",
       "version_major": 2,
       "version_minor": 0
      },
      "text/plain": [
       "HBox(children=(IntProgress(value=0, max=12), HTML(value='')))"
      ]
     },
     "metadata": {},
     "output_type": "display_data"
    },
    {
     "name": "stdout",
     "output_type": "stream",
     "text": [
      "\n",
      "Epoch: 8, Mean Training Loss: 2.8997222185134888\n",
      "[Epoch: 9/50]\n"
     ]
    },
    {
     "data": {
      "application/vnd.jupyter.widget-view+json": {
       "model_id": "2beb870202d746e5a283766dbe7d01e8",
       "version_major": 2,
       "version_minor": 0
      },
      "text/plain": [
       "HBox(children=(IntProgress(value=0, max=12), HTML(value='')))"
      ]
     },
     "metadata": {},
     "output_type": "display_data"
    },
    {
     "name": "stdout",
     "output_type": "stream",
     "text": [
      "\n",
      "Epoch: 9, Mean Training Loss: 2.8955555061499276\n",
      "[Epoch: 10/50]\n"
     ]
    },
    {
     "data": {
      "application/vnd.jupyter.widget-view+json": {
       "model_id": "c7698185835b4dcea1e8816864b0f4cf",
       "version_major": 2,
       "version_minor": 0
      },
      "text/plain": [
       "HBox(children=(IntProgress(value=0, max=12), HTML(value='')))"
      ]
     },
     "metadata": {},
     "output_type": "display_data"
    },
    {
     "name": "stdout",
     "output_type": "stream",
     "text": [
      "\n",
      "Epoch: 10, Mean Training Loss: 2.897499759991964\n",
      "[Epoch: 11/50]\n"
     ]
    },
    {
     "data": {
      "application/vnd.jupyter.widget-view+json": {
       "model_id": "2543a55edcd64b1ebb81453b6f74be97",
       "version_major": 2,
       "version_minor": 0
      },
      "text/plain": [
       "HBox(children=(IntProgress(value=0, max=12), HTML(value='')))"
      ]
     },
     "metadata": {},
     "output_type": "display_data"
    },
    {
     "name": "stdout",
     "output_type": "stream",
     "text": [
      "\n",
      "Epoch: 11, Mean Training Loss: 2.893055568138758\n",
      "[Epoch: 12/50]\n"
     ]
    },
    {
     "data": {
      "application/vnd.jupyter.widget-view+json": {
       "model_id": "94ebaff5dbae447498ebb3d79ac3160d",
       "version_major": 2,
       "version_minor": 0
      },
      "text/plain": [
       "HBox(children=(IntProgress(value=0, max=12), HTML(value='')))"
      ]
     },
     "metadata": {},
     "output_type": "display_data"
    },
    {
     "name": "stdout",
     "output_type": "stream",
     "text": [
      "\n",
      "Epoch: 12, Mean Training Loss: 2.89166667064031\n",
      "[Epoch: 13/50]\n"
     ]
    },
    {
     "data": {
      "application/vnd.jupyter.widget-view+json": {
       "model_id": "2afce13d23f047a190621c76dd6aaf24",
       "version_major": 2,
       "version_minor": 0
      },
      "text/plain": [
       "HBox(children=(IntProgress(value=0, max=12), HTML(value='')))"
      ]
     },
     "metadata": {},
     "output_type": "display_data"
    },
    {
     "name": "stdout",
     "output_type": "stream",
     "text": [
      "\n",
      "Epoch: 13, Mean Training Loss: 2.897499899069468\n",
      "[Epoch: 14/50]\n"
     ]
    },
    {
     "data": {
      "application/vnd.jupyter.widget-view+json": {
       "model_id": "6b6999d889104e3b8ac7acd9ad809da1",
       "version_major": 2,
       "version_minor": 0
      },
      "text/plain": [
       "HBox(children=(IntProgress(value=0, max=12), HTML(value='')))"
      ]
     },
     "metadata": {},
     "output_type": "display_data"
    },
    {
     "name": "stdout",
     "output_type": "stream",
     "text": [
      "\n",
      "Epoch: 14, Mean Training Loss: 2.895555555820465\n",
      "[Epoch: 15/50]\n"
     ]
    },
    {
     "data": {
      "application/vnd.jupyter.widget-view+json": {
       "model_id": "ab856078f8044b61aef084c4d5b468c5",
       "version_major": 2,
       "version_minor": 0
      },
      "text/plain": [
       "HBox(children=(IntProgress(value=0, max=12), HTML(value='')))"
      ]
     },
     "metadata": {},
     "output_type": "display_data"
    },
    {
     "name": "stdout",
     "output_type": "stream",
     "text": [
      "\n",
      "Epoch: 15, Mean Training Loss: 2.8969444632530212\n",
      "[Epoch: 16/50]\n"
     ]
    },
    {
     "data": {
      "application/vnd.jupyter.widget-view+json": {
       "model_id": "cb8cc56e580e4532afcde27aa0326334",
       "version_major": 2,
       "version_minor": 0
      },
      "text/plain": [
       "HBox(children=(IntProgress(value=0, max=12), HTML(value='')))"
      ]
     },
     "metadata": {},
     "output_type": "display_data"
    },
    {
     "name": "stdout",
     "output_type": "stream",
     "text": [
      "\n",
      "Epoch: 16, Mean Training Loss: 2.895833353201548\n",
      "[Epoch: 17/50]\n"
     ]
    },
    {
     "data": {
      "application/vnd.jupyter.widget-view+json": {
       "model_id": "beb28437941c490b928877c3b77c4ce1",
       "version_major": 2,
       "version_minor": 0
      },
      "text/plain": [
       "HBox(children=(IntProgress(value=0, max=12), HTML(value='')))"
      ]
     },
     "metadata": {},
     "output_type": "display_data"
    },
    {
     "name": "stdout",
     "output_type": "stream",
     "text": [
      "\n",
      "Epoch: 17, Mean Training Loss: 2.896388908227285\n",
      "[Epoch: 18/50]\n"
     ]
    },
    {
     "data": {
      "application/vnd.jupyter.widget-view+json": {
       "model_id": "b74be0245d0a4f7dabf8584fbda48f13",
       "version_major": 2,
       "version_minor": 0
      },
      "text/plain": [
       "HBox(children=(IntProgress(value=0, max=12), HTML(value='')))"
      ]
     },
     "metadata": {},
     "output_type": "display_data"
    },
    {
     "name": "stdout",
     "output_type": "stream",
     "text": [
      "\n",
      "Epoch: 18, Mean Training Loss: 2.904999931653341\n",
      "[Epoch: 19/50]\n"
     ]
    },
    {
     "data": {
      "application/vnd.jupyter.widget-view+json": {
       "model_id": "6b25741a7a524b9ea8a0e8564a91dc82",
       "version_major": 2,
       "version_minor": 0
      },
      "text/plain": [
       "HBox(children=(IntProgress(value=0, max=12), HTML(value='')))"
      ]
     },
     "metadata": {},
     "output_type": "display_data"
    },
    {
     "name": "stdout",
     "output_type": "stream",
     "text": [
      "\n",
      "Epoch: 19, Mean Training Loss: 2.9041666090488434\n",
      "[Epoch: 20/50]\n"
     ]
    },
    {
     "data": {
      "application/vnd.jupyter.widget-view+json": {
       "model_id": "594774abb24e4724bca8f8325a0b38ee",
       "version_major": 2,
       "version_minor": 0
      },
      "text/plain": [
       "HBox(children=(IntProgress(value=0, max=12), HTML(value='')))"
      ]
     },
     "metadata": {},
     "output_type": "display_data"
    },
    {
     "name": "stdout",
     "output_type": "stream",
     "text": [
      "\n",
      "Epoch: 20, Mean Training Loss: 2.8991667131582894\n",
      "[Epoch: 21/50]\n"
     ]
    },
    {
     "data": {
      "application/vnd.jupyter.widget-view+json": {
       "model_id": "c151529728e447d38e5a09ec39c87ce4",
       "version_major": 2,
       "version_minor": 0
      },
      "text/plain": [
       "HBox(children=(IntProgress(value=0, max=12), HTML(value='')))"
      ]
     },
     "metadata": {},
     "output_type": "display_data"
    },
    {
     "name": "stdout",
     "output_type": "stream",
     "text": [
      "\n",
      "Epoch: 21, Mean Training Loss: 2.9036110738913217\n",
      "[Epoch: 22/50]\n"
     ]
    },
    {
     "data": {
      "application/vnd.jupyter.widget-view+json": {
       "model_id": "d2fefe1cd3864c69895a0ffd02b282a4",
       "version_major": 2,
       "version_minor": 0
      },
      "text/plain": [
       "HBox(children=(IntProgress(value=0, max=12), HTML(value='')))"
      ]
     },
     "metadata": {},
     "output_type": "display_data"
    },
    {
     "name": "stdout",
     "output_type": "stream",
     "text": [
      "\n",
      "Epoch: 22, Mean Training Loss: 2.914722224076589\n",
      "[Epoch: 23/50]\n"
     ]
    },
    {
     "data": {
      "application/vnd.jupyter.widget-view+json": {
       "model_id": "e00c245e541945bd8cdd335bec32d030",
       "version_major": 2,
       "version_minor": 0
      },
      "text/plain": [
       "HBox(children=(IntProgress(value=0, max=12), HTML(value='')))"
      ]
     },
     "metadata": {},
     "output_type": "display_data"
    },
    {
     "name": "stdout",
     "output_type": "stream",
     "text": [
      "\n",
      "Epoch: 23, Mean Training Loss: 2.913051108519236\n",
      "[Epoch: 24/50]\n"
     ]
    },
    {
     "data": {
      "application/vnd.jupyter.widget-view+json": {
       "model_id": "2fa3fb5b05cf4c64b351232706d72036",
       "version_major": 2,
       "version_minor": 0
      },
      "text/plain": [
       "HBox(children=(IntProgress(value=0, max=12), HTML(value='')))"
      ]
     },
     "metadata": {},
     "output_type": "display_data"
    },
    {
     "name": "stdout",
     "output_type": "stream",
     "text": [
      "\n",
      "Epoch: 24, Mean Training Loss: 2.915000100930532\n",
      "[Epoch: 25/50]\n"
     ]
    },
    {
     "data": {
      "application/vnd.jupyter.widget-view+json": {
       "model_id": "80237e63f0b24b67b7bd7fa4a2b0ce45",
       "version_major": 2,
       "version_minor": 0
      },
      "text/plain": [
       "HBox(children=(IntProgress(value=0, max=12), HTML(value='')))"
      ]
     },
     "metadata": {},
     "output_type": "display_data"
    },
    {
     "name": "stdout",
     "output_type": "stream",
     "text": [
      "\n",
      "Epoch: 25, Mean Training Loss: 2.9102779229482016\n",
      "[Epoch: 26/50]\n"
     ]
    },
    {
     "data": {
      "application/vnd.jupyter.widget-view+json": {
       "model_id": "c2fe0b263d864474872a637fc34e1a33",
       "version_major": 2,
       "version_minor": 0
      },
      "text/plain": [
       "HBox(children=(IntProgress(value=0, max=12), HTML(value='')))"
      ]
     },
     "metadata": {},
     "output_type": "display_data"
    },
    {
     "name": "stdout",
     "output_type": "stream",
     "text": [
      "\n",
      "Epoch: 26, Mean Training Loss: 2.9105557004610696\n",
      "[Epoch: 27/50]\n"
     ]
    },
    {
     "data": {
      "application/vnd.jupyter.widget-view+json": {
       "model_id": "70bbcf7c7158412ca008c8f4f04720b8",
       "version_major": 2,
       "version_minor": 0
      },
      "text/plain": [
       "HBox(children=(IntProgress(value=0, max=12), HTML(value='')))"
      ]
     },
     "metadata": {},
     "output_type": "display_data"
    },
    {
     "name": "stdout",
     "output_type": "stream",
     "text": [
      "\n",
      "Epoch: 27, Mean Training Loss: 2.909722367922465\n",
      "[Epoch: 28/50]\n"
     ]
    },
    {
     "data": {
      "application/vnd.jupyter.widget-view+json": {
       "model_id": "958a80d08c1047f9a5ad36c08f6e596c",
       "version_major": 2,
       "version_minor": 0
      },
      "text/plain": [
       "HBox(children=(IntProgress(value=0, max=12), HTML(value='')))"
      ]
     },
     "metadata": {},
     "output_type": "display_data"
    },
    {
     "name": "stdout",
     "output_type": "stream",
     "text": [
      "\n",
      "Epoch: 28, Mean Training Loss: 2.910833477973938\n",
      "[Epoch: 29/50]\n"
     ]
    },
    {
     "data": {
      "application/vnd.jupyter.widget-view+json": {
       "model_id": "167e9c6d048648af96c6e602437c82e2",
       "version_major": 2,
       "version_minor": 0
      },
      "text/plain": [
       "HBox(children=(IntProgress(value=0, max=12), HTML(value='')))"
      ]
     },
     "metadata": {},
     "output_type": "display_data"
    },
    {
     "name": "stdout",
     "output_type": "stream",
     "text": [
      "\n",
      "Epoch: 29, Mean Training Loss: 2.9063888788223267\n",
      "[Epoch: 30/50]\n"
     ]
    },
    {
     "data": {
      "application/vnd.jupyter.widget-view+json": {
       "model_id": "9c82d472bdcf43738b91b1b7a6131afb",
       "version_major": 2,
       "version_minor": 0
      },
      "text/plain": [
       "HBox(children=(IntProgress(value=0, max=12), HTML(value='')))"
      ]
     },
     "metadata": {},
     "output_type": "display_data"
    },
    {
     "name": "stdout",
     "output_type": "stream",
     "text": [
      "\n",
      "Epoch: 30, Mean Training Loss: 2.9038891593615213\n",
      "[Epoch: 31/50]\n"
     ]
    },
    {
     "data": {
      "application/vnd.jupyter.widget-view+json": {
       "model_id": "7320f4b4f16a4cbc8989d044ebdc1a41",
       "version_major": 2,
       "version_minor": 0
      },
      "text/plain": [
       "HBox(children=(IntProgress(value=0, max=12), HTML(value='')))"
      ]
     },
     "metadata": {},
     "output_type": "display_data"
    },
    {
     "name": "stdout",
     "output_type": "stream",
     "text": [
      "\n",
      "Epoch: 31, Mean Training Loss: 2.9052778482437134\n",
      "[Epoch: 32/50]\n"
     ]
    },
    {
     "data": {
      "application/vnd.jupyter.widget-view+json": {
       "model_id": "902a76a84739443ebe626246469a9206",
       "version_major": 2,
       "version_minor": 0
      },
      "text/plain": [
       "HBox(children=(IntProgress(value=0, max=12), HTML(value='')))"
      ]
     },
     "metadata": {},
     "output_type": "display_data"
    },
    {
     "name": "stdout",
     "output_type": "stream",
     "text": [
      "\n",
      "Epoch: 32, Mean Training Loss: 2.902222196261088\n",
      "[Epoch: 33/50]\n"
     ]
    },
    {
     "data": {
      "application/vnd.jupyter.widget-view+json": {
       "model_id": "47eccb63913b4303ac6a84bf8da9fef3",
       "version_major": 2,
       "version_minor": 0
      },
      "text/plain": [
       "HBox(children=(IntProgress(value=0, max=12), HTML(value='')))"
      ]
     },
     "metadata": {},
     "output_type": "display_data"
    },
    {
     "name": "stdout",
     "output_type": "stream",
     "text": [
      "\n",
      "Epoch: 33, Mean Training Loss: 2.9013889034589133\n",
      "[Epoch: 34/50]\n"
     ]
    },
    {
     "data": {
      "application/vnd.jupyter.widget-view+json": {
       "model_id": "398d1b52176744898a33692f832f0ad9",
       "version_major": 2,
       "version_minor": 0
      },
      "text/plain": [
       "HBox(children=(IntProgress(value=0, max=12), HTML(value='')))"
      ]
     },
     "metadata": {},
     "output_type": "display_data"
    },
    {
     "name": "stdout",
     "output_type": "stream",
     "text": [
      "\n",
      "Epoch: 34, Mean Training Loss: 2.900000015894572\n",
      "[Epoch: 35/50]\n"
     ]
    },
    {
     "data": {
      "application/vnd.jupyter.widget-view+json": {
       "model_id": "0b84308215a34f61a8eec8f37940f114",
       "version_major": 2,
       "version_minor": 0
      },
      "text/plain": [
       "HBox(children=(IntProgress(value=0, max=12), HTML(value='')))"
      ]
     },
     "metadata": {},
     "output_type": "display_data"
    },
    {
     "name": "stdout",
     "output_type": "stream",
     "text": [
      "\n",
      "Epoch: 35, Mean Training Loss: 2.9016667008399963\n",
      "[Epoch: 36/50]\n"
     ]
    },
    {
     "data": {
      "application/vnd.jupyter.widget-view+json": {
       "model_id": "ce597f3f36e94f6aaeb74f6d32cd9bf4",
       "version_major": 2,
       "version_minor": 0
      },
      "text/plain": [
       "HBox(children=(IntProgress(value=0, max=12), HTML(value='')))"
      ]
     },
     "metadata": {},
     "output_type": "display_data"
    },
    {
     "name": "stdout",
     "output_type": "stream",
     "text": [
      "\n",
      "Epoch: 36, Mean Training Loss: 2.9027778108914695\n",
      "[Epoch: 37/50]\n"
     ]
    },
    {
     "data": {
      "application/vnd.jupyter.widget-view+json": {
       "model_id": "ab3451cd43a84a4bb30a63b7b5f8766d",
       "version_major": 2,
       "version_minor": 0
      },
      "text/plain": [
       "HBox(children=(IntProgress(value=0, max=12), HTML(value='')))"
      ]
     },
     "metadata": {},
     "output_type": "display_data"
    },
    {
     "name": "stdout",
     "output_type": "stream",
     "text": [
      "\n",
      "Epoch: 37, Mean Training Loss: 2.9052777787049613\n",
      "[Epoch: 38/50]\n"
     ]
    },
    {
     "data": {
      "application/vnd.jupyter.widget-view+json": {
       "model_id": "b3a61f1abd5e46bd9e38c0cf4776d03e",
       "version_major": 2,
       "version_minor": 0
      },
      "text/plain": [
       "HBox(children=(IntProgress(value=0, max=12), HTML(value='')))"
      ]
     },
     "metadata": {},
     "output_type": "display_data"
    },
    {
     "name": "stdout",
     "output_type": "stream",
     "text": [
      "\n",
      "Epoch: 38, Mean Training Loss: 2.9147223035494485\n",
      "[Epoch: 39/50]\n"
     ]
    },
    {
     "data": {
      "application/vnd.jupyter.widget-view+json": {
       "model_id": "3f71f759a569488996c9d5c49c18a705",
       "version_major": 2,
       "version_minor": 0
      },
      "text/plain": [
       "HBox(children=(IntProgress(value=0, max=12), HTML(value='')))"
      ]
     },
     "metadata": {},
     "output_type": "display_data"
    },
    {
     "name": "stdout",
     "output_type": "stream",
     "text": [
      "\n",
      "Epoch: 39, Mean Training Loss: 2.911666691303253\n",
      "[Epoch: 40/50]\n"
     ]
    },
    {
     "data": {
      "application/vnd.jupyter.widget-view+json": {
       "model_id": "f5333dae35e54519adebd1904391e8e0",
       "version_major": 2,
       "version_minor": 0
      },
      "text/plain": [
       "HBox(children=(IntProgress(value=0, max=12), HTML(value='')))"
      ]
     },
     "metadata": {},
     "output_type": "display_data"
    },
    {
     "name": "stdout",
     "output_type": "stream",
     "text": [
      "\n",
      "Epoch: 40, Mean Training Loss: 2.9069444437821708\n",
      "[Epoch: 41/50]\n"
     ]
    },
    {
     "data": {
      "application/vnd.jupyter.widget-view+json": {
       "model_id": "d25fd3179a1a49b69f97487273d7c782",
       "version_major": 2,
       "version_minor": 0
      },
      "text/plain": [
       "HBox(children=(IntProgress(value=0, max=12), HTML(value='')))"
      ]
     },
     "metadata": {},
     "output_type": "display_data"
    },
    {
     "name": "stdout",
     "output_type": "stream",
     "text": [
      "\n",
      "Epoch: 41, Mean Training Loss: 2.9055555760860443\n",
      "[Epoch: 42/50]\n"
     ]
    },
    {
     "data": {
      "application/vnd.jupyter.widget-view+json": {
       "model_id": "31bf958d94354a958041a5d4721b823d",
       "version_major": 2,
       "version_minor": 0
      },
      "text/plain": [
       "HBox(children=(IntProgress(value=0, max=12), HTML(value='')))"
      ]
     },
     "metadata": {},
     "output_type": "display_data"
    },
    {
     "name": "stdout",
     "output_type": "stream",
     "text": [
      "\n",
      "Epoch: 42, Mean Training Loss: 2.9094444811344147\n",
      "[Epoch: 43/50]\n"
     ]
    },
    {
     "data": {
      "application/vnd.jupyter.widget-view+json": {
       "model_id": "e67d816b00d64b5297b51fa2f71d95e7",
       "version_major": 2,
       "version_minor": 0
      },
      "text/plain": [
       "HBox(children=(IntProgress(value=0, max=12), HTML(value='')))"
      ]
     },
     "metadata": {},
     "output_type": "display_data"
    },
    {
     "name": "stdout",
     "output_type": "stream",
     "text": [
      "\n",
      "Epoch: 43, Mean Training Loss: 2.9050000806649527\n",
      "[Epoch: 44/50]\n"
     ]
    },
    {
     "data": {
      "application/vnd.jupyter.widget-view+json": {
       "model_id": "b77f20acffd74b078df0f23492d6db89",
       "version_major": 2,
       "version_minor": 0
      },
      "text/plain": [
       "HBox(children=(IntProgress(value=0, max=12), HTML(value='')))"
      ]
     },
     "metadata": {},
     "output_type": "display_data"
    },
    {
     "name": "stdout",
     "output_type": "stream",
     "text": [
      "\n",
      "Epoch: 44, Mean Training Loss: 2.907777855793635\n",
      "[Epoch: 45/50]\n"
     ]
    },
    {
     "data": {
      "application/vnd.jupyter.widget-view+json": {
       "model_id": "aa586c2b34c744c6bcb4b34c28fb9d65",
       "version_major": 2,
       "version_minor": 0
      },
      "text/plain": [
       "HBox(children=(IntProgress(value=0, max=12), HTML(value='')))"
      ]
     },
     "metadata": {},
     "output_type": "display_data"
    },
    {
     "name": "stdout",
     "output_type": "stream",
     "text": [
      "\n",
      "Epoch: 45, Mean Training Loss: 2.9058334132035575\n",
      "[Epoch: 46/50]\n"
     ]
    },
    {
     "data": {
      "application/vnd.jupyter.widget-view+json": {
       "model_id": "3f991deef7194a2fb61a1343c7c945d3",
       "version_major": 2,
       "version_minor": 0
      },
      "text/plain": [
       "HBox(children=(IntProgress(value=0, max=12), HTML(value='')))"
      ]
     },
     "metadata": {},
     "output_type": "display_data"
    },
    {
     "name": "stdout",
     "output_type": "stream",
     "text": [
      "\n",
      "Epoch: 46, Mean Training Loss: 2.9080555737018585\n",
      "[Epoch: 47/50]\n"
     ]
    },
    {
     "data": {
      "application/vnd.jupyter.widget-view+json": {
       "model_id": "8af67eaa08ef4a4a9d00db3515eee8b8",
       "version_major": 2,
       "version_minor": 0
      },
      "text/plain": [
       "HBox(children=(IntProgress(value=0, max=12), HTML(value='')))"
      ]
     },
     "metadata": {},
     "output_type": "display_data"
    },
    {
     "name": "stdout",
     "output_type": "stream",
     "text": [
      "\n",
      "Epoch: 47, Mean Training Loss: 2.9091667532920837\n",
      "[Epoch: 48/50]\n"
     ]
    },
    {
     "data": {
      "application/vnd.jupyter.widget-view+json": {
       "model_id": "95da0da2021146d287950f84decab4f2",
       "version_major": 2,
       "version_minor": 0
      },
      "text/plain": [
       "HBox(children=(IntProgress(value=0, max=12), HTML(value='')))"
      ]
     },
     "metadata": {},
     "output_type": "display_data"
    },
    {
     "name": "stdout",
     "output_type": "stream",
     "text": [
      "\n",
      "Epoch: 48, Mean Training Loss: 2.910555640856425\n",
      "[Epoch: 49/50]\n"
     ]
    },
    {
     "data": {
      "application/vnd.jupyter.widget-view+json": {
       "model_id": "bfa051949b4d4c69ac07f4febd36644f",
       "version_major": 2,
       "version_minor": 0
      },
      "text/plain": [
       "HBox(children=(IntProgress(value=0, max=12), HTML(value='')))"
      ]
     },
     "metadata": {},
     "output_type": "display_data"
    },
    {
     "name": "stdout",
     "output_type": "stream",
     "text": [
      "\n",
      "Epoch: 49, Mean Training Loss: 2.9122223059336343\n",
      "[Epoch: 50/50]\n"
     ]
    },
    {
     "data": {
      "application/vnd.jupyter.widget-view+json": {
       "model_id": "f9898070a4f0439ea1a2a250ecfae099",
       "version_major": 2,
       "version_minor": 0
      },
      "text/plain": [
       "HBox(children=(IntProgress(value=0, max=12), HTML(value='')))"
      ]
     },
     "metadata": {},
     "output_type": "display_data"
    },
    {
     "name": "stdout",
     "output_type": "stream",
     "text": [
      "\n",
      "Epoch: 50, Mean Training Loss: 2.9113889733950296\n",
      "tensor([[0, 0, 0, 0, 0, 0],\n",
      "        [0, 0, 0, 0, 0, 0],\n",
      "        [0, 0, 0, 0, 0, 0],\n",
      "        ...,\n",
      "        [0, 0, 0, 0, 0, 0],\n",
      "        [0, 0, 0, 0, 0, 0],\n",
      "        [0, 1, 0, 0, 0, 1]], dtype=torch.uint8)\n"
     ]
    }
   ],
   "source": [
    "train_losses, dev_losses, dev_rs = trainer.train(train_X, train_Y, train_word_idx, dev_X, dev_Y, dev_word_idx, development = False)\n",
    "\n"
   ]
  },
  {
   "cell_type": "code",
   "execution_count": 12,
   "metadata": {},
   "outputs": [],
   "source": [
    "# plot the learning curve\n",
    "import matplotlib\n",
    "import matplotlib.pyplot as plt\n",
    "ite = [e for e in range(epochs)]\n",
    "plt.plot(train_losses, label = \"Cosine Similarity Loss\")\n",
    "plt.legend(loc = \"best\")\n",
    "title = \"Learning Curve (# of training examples \" + str(len(train_X)) + \")\"\n",
    "plt.title(title)\n",
    "plt.ylabel('Loss')\n",
    "plt.xlabel('Number of Iteration')\n",
    "plt.savefig('loss.png')\n"
   ]
  },
  {
   "cell_type": "code",
   "execution_count": null,
   "metadata": {},
   "outputs": [],
   "source": []
  }
 ],
 "metadata": {
  "kernelspec": {
   "display_name": "Python 3",
   "language": "python",
   "name": "python3"
  },
  "language_info": {
   "codemirror_mode": {
    "name": "ipython",
    "version": 3
   },
   "file_extension": ".py",
   "mimetype": "text/x-python",
   "name": "python",
   "nbconvert_exporter": "python",
   "pygments_lexer": "ipython3",
   "version": "3.6.6"
  }
 },
 "nbformat": 4,
 "nbformat_minor": 2
}
