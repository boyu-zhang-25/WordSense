{
 "cells": [
  {
   "cell_type": "code",
   "execution_count": 1,
   "metadata": {},
   "outputs": [
    {
     "name": "stdout",
     "output_type": "stream",
     "text": [
      "Better speed can be achieved with apex installed from https://www.github.com/nvidia/apex.\n"
     ]
    }
   ],
   "source": [
    "from util import *\n",
    "import torch\n",
    "from allennlp.commands.elmo import ElmoEmbedder\n",
    "from model import *"
   ]
  },
  {
   "cell_type": "code",
   "execution_count": 2,
   "metadata": {},
   "outputs": [
    {
     "name": "stdout",
     "output_type": "stream",
     "text": [
      "Parsed 439312 word sense data from White et. al., 2016.\n",
      "Parsed 12543 training data from UD_English-EWT/en_ewt-ud-train.conllu.\n",
      "Parsed 2077 testing data from UD_English-EWT/en_ewt-ud-test.conllu.\n",
      "Parsed 2002 dev data from UD_English-EWT/en_ewt-ud-dev.conllu.\n",
      "Processed 20 sentences for test purpose.\n",
      "\n",
      "******************* Data Example ***********************\n",
      "Sentence: ['on', 'August', '9', ',', '2004', ',', 'it', 'be', 'announce', 'that', 'in', 'the', 'spring', 'of', '2001', ',', 'a', 'man', 'name', 'El', '-', 'Shukrijumah', ',', 'also', 'know', 'as', 'Jafar', 'the', 'Pilot', ',', 'who', 'be', 'part', 'of', 'a', '\"', 'second', 'wave', ',', '\"', 'have', 'be', 'case', 'New', 'York', 'City', 'helicopter', '.']\n",
      "Target Word Index: 12\n",
      "Target Word Sense (index in WordNet 3.1): spring.n.01\n",
      "********************************************************\n"
     ]
    }
   ],
   "source": [
    "# parse the data\n",
    "wsd_data, train_data, test_data, dev_data = parse_data()\n",
    "\n",
    "# return the raw sentences from the EUD for train, test, and dev\n",
    "# test the first 20 sentences\n",
    "train_sentences, train_word_sense, train_word_index, test_sentences, test_word_sense, test_word_index, dev_sentences, dev_word_sense, dev_word_index = get_raw_sentences(wsd_data, train_data, test_data, dev_data, 20)\n"
   ]
  },
  {
   "cell_type": "code",
   "execution_count": 3,
   "metadata": {},
   "outputs": [
    {
     "name": "stdout",
     "output_type": "stream",
     "text": [
      "\n",
      "All parameters in the model:\n",
      "layers.WSD.0.weight torch.Size([300, 512])\n",
      "layers.WSD.0.bias torch.Size([300])\n",
      "layers.WSD.2.weight torch.Size([10, 300])\n",
      "layers.WSD.2.bias torch.Size([10])\n",
      "dimension_reduction_MLP.weight torch.Size([256, 3072])\n",
      "dimension_reduction_MLP.bias torch.Size([256])\n",
      "wsd_lstm.weight_ih_l0 torch.Size([1024, 256])\n",
      "wsd_lstm.weight_hh_l0 torch.Size([1024, 256])\n",
      "wsd_lstm.bias_ih_l0 torch.Size([1024])\n",
      "wsd_lstm.bias_hh_l0 torch.Size([1024])\n",
      "wsd_lstm.weight_ih_l0_reverse torch.Size([1024, 256])\n",
      "wsd_lstm.weight_hh_l0_reverse torch.Size([1024, 256])\n",
      "wsd_lstm.bias_ih_l0_reverse torch.Size([1024])\n",
      "wsd_lstm.bias_hh_l0_reverse torch.Size([1024])\n",
      "wsd_lstm.weight_ih_l1 torch.Size([1024, 512])\n",
      "wsd_lstm.weight_hh_l1 torch.Size([1024, 256])\n",
      "wsd_lstm.bias_ih_l1 torch.Size([1024])\n",
      "wsd_lstm.bias_hh_l1 torch.Size([1024])\n",
      "wsd_lstm.weight_ih_l1_reverse torch.Size([1024, 512])\n",
      "wsd_lstm.weight_hh_l1_reverse torch.Size([1024, 256])\n",
      "wsd_lstm.bias_ih_l1_reverse torch.Size([1024])\n",
      "wsd_lstm.bias_hh_l1_reverse torch.Size([1024])\n",
      "Model(\n",
      "  (layers): ModuleDict(\n",
      "    (WSD): ModuleList(\n",
      "      (0): Linear(in_features=512, out_features=300, bias=True)\n",
      "      (1): ReLU()\n",
      "      (2): Linear(in_features=300, out_features=10, bias=True)\n",
      "      (3): Softmax()\n",
      "    )\n",
      "  )\n",
      "  (mlp_dropout): Dropout(p=0)\n",
      "  (dimension_reduction_MLP): Linear(in_features=3072, out_features=256, bias=True)\n",
      "  (wsd_lstm): LSTM(256, 256, num_layers=2, bidirectional=True)\n",
      ")\n",
      "\n",
      "******************* fine-tuning MLP structure ***********************\n",
      "Current Task: WSD\n",
      "Linear(in_features=512, out_features=300, bias=True)\n",
      "ReLU()\n",
      "Linear(in_features=300, out_features=10, bias=True)\n",
      "Softmax()\n",
      "**********************************************************************\n",
      "\n",
      "Original ELMo embeddings size: torch.Size([20, 3, 48, 1024]), mask: torch.Size([20, 48])\n",
      "Embedding size after dimension reduction: torch.Size([48, 20, 256]), mask: torch.Size([48, 20, 256])\n",
      "\n",
      "Embedding size after bi-LSTM: torch.Size([48, 20, 512])\n",
      "\n",
      "Output of the fine-tuning MLP: \n",
      "Total 20 words. \n",
      "Each word has a 10-d vector output as probabilities distributing over its senses: torch.Size([10])\n"
     ]
    },
    {
     "data": {
      "text/plain": [
       "[tensor([0.1036, 0.1022, 0.1002, 0.0972, 0.0987, 0.0980, 0.1058, 0.1029, 0.0956,\n",
       "         0.0958], grad_fn=<SoftmaxBackward>),\n",
       " tensor([0.1036, 0.1022, 0.1002, 0.0972, 0.0987, 0.0980, 0.1058, 0.1029, 0.0956,\n",
       "         0.0958], grad_fn=<SoftmaxBackward>),\n",
       " tensor([0.1036, 0.1022, 0.1002, 0.0972, 0.0987, 0.0980, 0.1058, 0.1029, 0.0956,\n",
       "         0.0958], grad_fn=<SoftmaxBackward>),\n",
       " tensor([0.1036, 0.1022, 0.1002, 0.0972, 0.0987, 0.0980, 0.1058, 0.1029, 0.0956,\n",
       "         0.0958], grad_fn=<SoftmaxBackward>),\n",
       " tensor([0.1036, 0.1022, 0.1002, 0.0972, 0.0987, 0.0980, 0.1058, 0.1029, 0.0956,\n",
       "         0.0958], grad_fn=<SoftmaxBackward>),\n",
       " tensor([0.1036, 0.1022, 0.1002, 0.0972, 0.0987, 0.0980, 0.1058, 0.1029, 0.0956,\n",
       "         0.0958], grad_fn=<SoftmaxBackward>),\n",
       " tensor([0.1036, 0.1022, 0.1002, 0.0972, 0.0987, 0.0980, 0.1058, 0.1029, 0.0956,\n",
       "         0.0958], grad_fn=<SoftmaxBackward>),\n",
       " tensor([0.1036, 0.1022, 0.1002, 0.0972, 0.0987, 0.0980, 0.1058, 0.1029, 0.0956,\n",
       "         0.0958], grad_fn=<SoftmaxBackward>),\n",
       " tensor([0.1036, 0.1022, 0.1002, 0.0972, 0.0987, 0.0980, 0.1058, 0.1029, 0.0956,\n",
       "         0.0958], grad_fn=<SoftmaxBackward>),\n",
       " tensor([0.1036, 0.1022, 0.1002, 0.0972, 0.0987, 0.0980, 0.1058, 0.1029, 0.0956,\n",
       "         0.0958], grad_fn=<SoftmaxBackward>),\n",
       " tensor([0.1036, 0.1022, 0.1002, 0.0972, 0.0987, 0.0980, 0.1058, 0.1029, 0.0956,\n",
       "         0.0958], grad_fn=<SoftmaxBackward>),\n",
       " tensor([0.1036, 0.1022, 0.1002, 0.0972, 0.0987, 0.0980, 0.1058, 0.1029, 0.0956,\n",
       "         0.0958], grad_fn=<SoftmaxBackward>),\n",
       " tensor([0.1034, 0.1017, 0.1000, 0.0968, 0.0988, 0.0975, 0.1059, 0.1043, 0.0951,\n",
       "         0.0964], grad_fn=<SoftmaxBackward>),\n",
       " tensor([0.1034, 0.1017, 0.1000, 0.0968, 0.0988, 0.0975, 0.1059, 0.1043, 0.0951,\n",
       "         0.0964], grad_fn=<SoftmaxBackward>),\n",
       " tensor([0.1039, 0.1019, 0.0997, 0.0969, 0.0995, 0.0975, 0.1060, 0.1033, 0.0955,\n",
       "         0.0957], grad_fn=<SoftmaxBackward>),\n",
       " tensor([0.1039, 0.1019, 0.0997, 0.0969, 0.0995, 0.0975, 0.1060, 0.1033, 0.0955,\n",
       "         0.0957], grad_fn=<SoftmaxBackward>),\n",
       " tensor([0.1039, 0.1019, 0.0997, 0.0969, 0.0995, 0.0975, 0.1060, 0.1033, 0.0955,\n",
       "         0.0957], grad_fn=<SoftmaxBackward>),\n",
       " tensor([0.1039, 0.1019, 0.0997, 0.0969, 0.0995, 0.0975, 0.1060, 0.1033, 0.0955,\n",
       "         0.0957], grad_fn=<SoftmaxBackward>),\n",
       " tensor([0.1041, 0.1019, 0.1003, 0.0962, 0.0982, 0.0977, 0.1067, 0.1044, 0.0950,\n",
       "         0.0955], grad_fn=<SoftmaxBackward>),\n",
       " tensor([0.1041, 0.1019, 0.1003, 0.0962, 0.0982, 0.0977, 0.1067, 0.1044, 0.0950,\n",
       "         0.0955], grad_fn=<SoftmaxBackward>)]"
      ]
     },
     "execution_count": 3,
     "metadata": {},
     "output_type": "execute_result"
    }
   ],
   "source": [
    "# ELMo setup\n",
    "# ELMo is tuned to lower dimension (256) by MLP in Model\n",
    "elmo = ElmoEmbedder()\n",
    "model = Model(elmo_class = elmo)\n",
    "\n",
    "# print the model \n",
    "print_whole_model(model)\n",
    "\n",
    "# MLP illustration\n",
    "print_fine_tuning_MLP(model, 'WSD')\n",
    "\n",
    "# forward propagation\n",
    "# ELMo (1024) -> dimension reduction (256) -> bi-LSTM (512) -> fine-tuning MLP (10)\n",
    "model.forward(train_sentences, train_word_index)"
   ]
  },
  {
   "cell_type": "code",
   "execution_count": null,
   "metadata": {},
   "outputs": [],
   "source": []
  }
 ],
 "metadata": {
  "kernelspec": {
   "display_name": "Python 3",
   "language": "python",
   "name": "python3"
  },
  "language_info": {
   "codemirror_mode": {
    "name": "ipython",
    "version": 3
   },
   "file_extension": ".py",
   "mimetype": "text/x-python",
   "name": "python",
   "nbconvert_exporter": "python",
   "pygments_lexer": "ipython3",
   "version": "3.6.6"
  }
 },
 "nbformat": 4,
 "nbformat_minor": 2
}
